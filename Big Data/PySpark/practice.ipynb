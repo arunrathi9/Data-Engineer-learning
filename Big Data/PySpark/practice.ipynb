{
 "cells": [
  {
   "cell_type": "code",
   "execution_count": 4,
   "metadata": {},
   "outputs": [],
   "source": [
    "import pyspark"
   ]
  },
  {
   "cell_type": "code",
   "execution_count": 6,
   "metadata": {},
   "outputs": [
    {
     "name": "stderr",
     "output_type": "stream",
     "text": [
      "Setting default log level to \"WARN\".\n",
      "To adjust logging level use sc.setLogLevel(newLevel). For SparkR, use setLogLevel(newLevel).\n"
     ]
    },
    {
     "name": "stdout",
     "output_type": "stream",
     "text": [
      "22/12/11 08:57:18 WARN NativeCodeLoader: Unable to load native-hadoop library for your platform... using builtin-java classes where applicable\n"
     ]
    }
   ],
   "source": [
    "from pyspark.sql import SparkSession\n",
    "\n",
    "spark = SparkSession.builder.appName('Practice').getOrCreate()"
   ]
  },
  {
   "cell_type": "code",
   "execution_count": 7,
   "metadata": {},
   "outputs": [
    {
     "data": {
      "text/plain": [
       "[Row(_c0='Serial No.', _c1='GRE Score', _c2='TOEFL Score', _c3='University Rating', _c4='SOP', _c5='LOR ', _c6='CGPA', _c7='Research', _c8='Chance of Admit '),\n",
       " Row(_c0='1', _c1='337', _c2='118', _c3='4', _c4='4.5', _c5='4.5', _c6='9.65', _c7='1', _c8='0.92'),\n",
       " Row(_c0='2', _c1='324', _c2='107', _c3='4', _c4='4', _c5='4.5', _c6='8.87', _c7='1', _c8='0.76'),\n",
       " Row(_c0='3', _c1='316', _c2='104', _c3='3', _c4='3', _c5='3.5', _c6='8', _c7='1', _c8='0.72'),\n",
       " Row(_c0='4', _c1='322', _c2='110', _c3='3', _c4='3.5', _c5='2.5', _c6='8.67', _c7='1', _c8='0.8')]"
      ]
     },
     "execution_count": 7,
     "metadata": {},
     "output_type": "execute_result"
    }
   ],
   "source": [
    "df = spark.read.csv('/Users/arunrathi/Projects/ineuron projects/Data-Engineer-learning/Ineuron/MongoDB/Admission.csv')\n",
    "df.head(5)"
   ]
  },
  {
   "cell_type": "code",
   "execution_count": 8,
   "metadata": {},
   "outputs": [
    {
     "name": "stdout",
     "output_type": "stream",
     "text": [
      "+----------+---------+-----------+-----------------+---+----+----+--------+----------------+\n",
      "|       _c0|      _c1|        _c2|              _c3|_c4| _c5| _c6|     _c7|             _c8|\n",
      "+----------+---------+-----------+-----------------+---+----+----+--------+----------------+\n",
      "|Serial No.|GRE Score|TOEFL Score|University Rating|SOP|LOR |CGPA|Research|Chance of Admit |\n",
      "|         1|      337|        118|                4|4.5| 4.5|9.65|       1|            0.92|\n",
      "|         2|      324|        107|                4|  4| 4.5|8.87|       1|            0.76|\n",
      "|         3|      316|        104|                3|  3| 3.5|   8|       1|            0.72|\n",
      "|         4|      322|        110|                3|3.5| 2.5|8.67|       1|             0.8|\n",
      "|         5|      314|        103|                2|  2|   3|8.21|       0|            0.65|\n",
      "|         6|      330|        115|                5|4.5|   3|9.34|       1|             0.9|\n",
      "|         7|      321|        109|                3|  3|   4| 8.2|       1|            0.75|\n",
      "|         8|      308|        101|                2|  3|   4| 7.9|       0|            0.68|\n",
      "|         9|      302|        102|                1|  2| 1.5|   8|       0|             0.5|\n",
      "|        10|      323|        108|                3|3.5|   3| 8.6|       0|            0.45|\n",
      "|        11|      325|        106|                3|3.5|   4| 8.4|       1|            0.52|\n",
      "|        12|      327|        111|                4|  4| 4.5|   9|       1|            0.84|\n",
      "|        13|      328|        112|                4|  4| 4.5| 9.1|       1|            0.78|\n",
      "|        14|      307|        109|                3|  4|   3|   8|       1|            0.62|\n",
      "|        15|      311|        104|                3|3.5|   2| 8.2|       1|            0.61|\n",
      "|        16|      314|        105|                3|3.5| 2.5| 8.3|       0|            0.54|\n",
      "|        17|      317|        107|                3|  4|   3| 8.7|       0|            0.66|\n",
      "|        18|      319|        106|                3|  4|   3|   8|       1|            0.65|\n",
      "|        19|      318|        110|                3|  4|   3| 8.8|       0|            0.63|\n",
      "+----------+---------+-----------+-----------------+---+----+----+--------+----------------+\n",
      "only showing top 20 rows\n",
      "\n"
     ]
    }
   ],
   "source": [
    "df.show()"
   ]
  },
  {
   "cell_type": "code",
   "execution_count": 9,
   "metadata": {},
   "outputs": [
    {
     "data": {
      "text/plain": [
       "'/Users/arunrathi/Projects/ineuron projects/Data-Engineer-learning/Big Data/PySpark'"
      ]
     },
     "execution_count": 9,
     "metadata": {},
     "output_type": "execute_result"
    }
   ],
   "source": [
    "pwd"
   ]
  },
  {
   "cell_type": "code",
   "execution_count": 18,
   "metadata": {},
   "outputs": [
    {
     "name": "stdout",
     "output_type": "stream",
     "text": [
      "+----------+---------+-----------+-----------------+---+----+----+--------+----------------+\n",
      "|Serial No.|GRE Score|TOEFL Score|University Rating|SOP|LOR |CGPA|Research|Chance of Admit |\n",
      "+----------+---------+-----------+-----------------+---+----+----+--------+----------------+\n",
      "|         1|      337|        118|                4|4.5| 4.5|9.65|       1|            0.92|\n",
      "|         2|      324|        107|                4|  4| 4.5|8.87|       1|            0.76|\n",
      "|         3|      316|        104|                3|  3| 3.5|   8|       1|            0.72|\n",
      "|         4|      322|        110|                3|3.5| 2.5|8.67|       1|             0.8|\n",
      "|         5|      314|        103|                2|  2|   3|8.21|       0|            0.65|\n",
      "|         6|      330|        115|                5|4.5|   3|9.34|       1|             0.9|\n",
      "|         7|      321|        109|                3|  3|   4| 8.2|       1|            0.75|\n",
      "|         8|      308|        101|                2|  3|   4| 7.9|       0|            0.68|\n",
      "|         9|      302|        102|                1|  2| 1.5|   8|       0|             0.5|\n",
      "|        10|      323|        108|                3|3.5|   3| 8.6|       0|            0.45|\n",
      "|        11|      325|        106|                3|3.5|   4| 8.4|       1|            0.52|\n",
      "|        12|      327|        111|                4|  4| 4.5|   9|       1|            0.84|\n",
      "|        13|      328|        112|                4|  4| 4.5| 9.1|       1|            0.78|\n",
      "|        14|      307|        109|                3|  4|   3|   8|       1|            0.62|\n",
      "|        15|      311|        104|                3|3.5|   2| 8.2|       1|            0.61|\n",
      "|        16|      314|        105|                3|3.5| 2.5| 8.3|       0|            0.54|\n",
      "|        17|      317|        107|                3|  4|   3| 8.7|       0|            0.66|\n",
      "|        18|      319|        106|                3|  4|   3|   8|       1|            0.65|\n",
      "|        19|      318|        110|                3|  4|   3| 8.8|       0|            0.63|\n",
      "|        20|      303|        102|                3|3.5|   3| 8.5|       0|            0.62|\n",
      "+----------+---------+-----------+-----------------+---+----+----+--------+----------------+\n",
      "only showing top 20 rows\n",
      "\n"
     ]
    }
   ],
   "source": [
    "# Method 1 - To consider first row as header\n",
    "#df = spark.read.option('header', 'true')\\\n",
    "#    .csv('/Users/arunrathi/Projects/ineuron projects/Data-Engineer-learning/Ineuron/MongoDB/Admission.csv')\n",
    "\n",
    "# Method2\n",
    "df = spark.read.csv('/Users/arunrathi/Projects/ineuron projects/Data-Engineer-learning/Ineuron/MongoDB/Admission.csv', sep=',', header=True)\n",
    "df.show()"
   ]
  },
  {
   "cell_type": "code",
   "execution_count": 19,
   "metadata": {},
   "outputs": [
    {
     "name": "stdout",
     "output_type": "stream",
     "text": [
      "root\n",
      " |-- Serial No.: string (nullable = true)\n",
      " |-- GRE Score: string (nullable = true)\n",
      " |-- TOEFL Score: string (nullable = true)\n",
      " |-- University Rating: string (nullable = true)\n",
      " |-- SOP: string (nullable = true)\n",
      " |-- LOR : string (nullable = true)\n",
      " |-- CGPA: string (nullable = true)\n",
      " |-- Research: string (nullable = true)\n",
      " |-- Chance of Admit : string (nullable = true)\n",
      "\n"
     ]
    }
   ],
   "source": [
    "df.printSchema()"
   ]
  },
  {
   "cell_type": "code",
   "execution_count": 44,
   "metadata": {},
   "outputs": [],
   "source": [
    "from pyspark.sql.types import *\n",
    "\n",
    "data_schema = [\n",
    "    StructField('Serial No.', IntegerType(), True),\n",
    "    StructField('GRE Score', IntegerType(), True),\n",
    "    StructField('TOEFL Score', IntegerType(), True),\n",
    "    StructField('University Rating', IntegerType(), True),\n",
    "    StructField('SOP', FloatType(), True),\n",
    "    StructField('LOR ', FloatType(), True),\n",
    "    StructField('CGPA', FloatType(), True),\n",
    "    StructField('Research', IntegerType(), True),\n",
    "    StructField('Chance of Admit ', FloatType(), True)\n",
    "]\n",
    "\n",
    "final_struc = StructType(fields=data_schema)"
   ]
  },
  {
   "cell_type": "code",
   "execution_count": 45,
   "metadata": {},
   "outputs": [
    {
     "name": "stdout",
     "output_type": "stream",
     "text": [
      "root\n",
      " |-- Serial No.: integer (nullable = true)\n",
      " |-- GRE Score: integer (nullable = true)\n",
      " |-- TOEFL Score: integer (nullable = true)\n",
      " |-- University Rating: integer (nullable = true)\n",
      " |-- SOP: float (nullable = true)\n",
      " |-- LOR : float (nullable = true)\n",
      " |-- CGPA: float (nullable = true)\n",
      " |-- Research: integer (nullable = true)\n",
      " |-- Chance of Admit : float (nullable = true)\n",
      "\n"
     ]
    }
   ],
   "source": [
    "df_with_schema = spark.read.csv('/Users/arunrathi/Projects/ineuron projects/Data-Engineer-learning/Ineuron/MongoDB/Admission.csv',\n",
    "sep=',', header = True, schema = final_struc)\n",
    "\n",
    "df_with_schema.printSchema()"
   ]
  },
  {
   "cell_type": "code",
   "execution_count": 46,
   "metadata": {},
   "outputs": [
    {
     "name": "stdout",
     "output_type": "stream",
     "text": [
      "+-------+------------------+------------------+-----------------+------------------+-----------------+------------------+------------------+-------------------+-------------------+\n",
      "|summary|        Serial No.|         GRE Score|      TOEFL Score| University Rating|              SOP|              LOR |              CGPA|           Research|   Chance of Admit |\n",
      "+-------+------------------+------------------+-----------------+------------------+-----------------+------------------+------------------+-------------------+-------------------+\n",
      "|  count|               400|               400|              400|               400|              400|               400|               400|                400|                400|\n",
      "|   mean|             200.5|          316.8075|           107.41|            3.0875|              3.4|            3.4525| 8.598925005197525|             0.5475| 0.7243499991297722|\n",
      "| stddev|115.61430130683084|11.473646113500488|6.069513777374134|1.1437281298838986|1.006868641458697|0.8984775482792569|0.5963170789619662|0.49836197853983155|0.14260933092847422|\n",
      "|    min|                 1|               290|               92|                 1|              1.0|               1.0|               6.8|                  0|               0.34|\n",
      "|    max|               400|               340|              120|                 5|              5.0|               5.0|              9.92|                  1|               0.97|\n",
      "+-------+------------------+------------------+-----------------+------------------+-----------------+------------------+------------------+-------------------+-------------------+\n",
      "\n"
     ]
    }
   ],
   "source": [
    "df_with_schema.describe().show()"
   ]
  },
  {
   "cell_type": "markdown",
   "metadata": {},
   "source": [
    "### Columns Manipulation"
   ]
  },
  {
   "cell_type": "code",
   "execution_count": 47,
   "metadata": {},
   "outputs": [],
   "source": [
    "from datetime import datetime\n",
    "from pyspark.sql.functions import col, lit, current_timestamp"
   ]
  },
  {
   "cell_type": "code",
   "execution_count": 48,
   "metadata": {},
   "outputs": [],
   "source": [
    "dt = datetime.now().strftime(\"%d/%m/%Y %H:%M:%S\")"
   ]
  },
  {
   "cell_type": "code",
   "execution_count": 49,
   "metadata": {},
   "outputs": [],
   "source": [
    "data = df_with_schema.withColumn('date', current_timestamp())"
   ]
  },
  {
   "cell_type": "code",
   "execution_count": 50,
   "metadata": {},
   "outputs": [
    {
     "data": {
      "text/plain": [
       "[Row(Serial No.=1, GRE Score=337, TOEFL Score=118, University Rating=4, SOP=4.5, LOR =4.5, CGPA=9.649999618530273, Research=1, Chance of Admit =0.9200000166893005, date=datetime.datetime(2022, 12, 11, 9, 31, 36, 851681)),\n",
       " Row(Serial No.=2, GRE Score=324, TOEFL Score=107, University Rating=4, SOP=4.0, LOR =4.5, CGPA=8.869999885559082, Research=1, Chance of Admit =0.7599999904632568, date=datetime.datetime(2022, 12, 11, 9, 31, 36, 851681)),\n",
       " Row(Serial No.=3, GRE Score=316, TOEFL Score=104, University Rating=3, SOP=3.0, LOR =3.5, CGPA=8.0, Research=1, Chance of Admit =0.7200000286102295, date=datetime.datetime(2022, 12, 11, 9, 31, 36, 851681)),\n",
       " Row(Serial No.=4, GRE Score=322, TOEFL Score=110, University Rating=3, SOP=3.5, LOR =2.5, CGPA=8.670000076293945, Research=1, Chance of Admit =0.800000011920929, date=datetime.datetime(2022, 12, 11, 9, 31, 36, 851681)),\n",
       " Row(Serial No.=5, GRE Score=314, TOEFL Score=103, University Rating=2, SOP=2.0, LOR =3.0, CGPA=8.210000038146973, Research=0, Chance of Admit =0.6499999761581421, date=datetime.datetime(2022, 12, 11, 9, 31, 36, 851681))]"
      ]
     },
     "execution_count": 50,
     "metadata": {},
     "output_type": "execute_result"
    }
   ],
   "source": [
    "data.head(5)"
   ]
  },
  {
   "cell_type": "code",
   "execution_count": null,
   "metadata": {},
   "outputs": [],
   "source": [
    "data.show(5)"
   ]
  },
  {
   "cell_type": "code",
   "execution_count": 52,
   "metadata": {},
   "outputs": [
    {
     "name": "stdout",
     "output_type": "stream",
     "text": [
      "+----------+---------+-----------+-----------------+---+----+----+--------+----------------+---------------------+\n",
      "|Serial No.|GRE Score|TOEFL Score|University Rating|SOP|LOR |CGPA|Research|Chance of Admit |last_updated_datetime|\n",
      "+----------+---------+-----------+-----------------+---+----+----+--------+----------------+---------------------+\n",
      "|         1|      337|        118|                4|4.5| 4.5|9.65|       1|            0.92| 2022-12-11 09:33:...|\n",
      "|         2|      324|        107|                4|4.0| 4.5|8.87|       1|            0.76| 2022-12-11 09:33:...|\n",
      "|         3|      316|        104|                3|3.0| 3.5| 8.0|       1|            0.72| 2022-12-11 09:33:...|\n",
      "|         4|      322|        110|                3|3.5| 2.5|8.67|       1|             0.8| 2022-12-11 09:33:...|\n",
      "|         5|      314|        103|                2|2.0| 3.0|8.21|       0|            0.65| 2022-12-11 09:33:...|\n",
      "+----------+---------+-----------+-----------------+---+----+----+--------+----------------+---------------------+\n",
      "only showing top 5 rows\n",
      "\n"
     ]
    }
   ],
   "source": [
    "data = data.withColumnRenamed('date', 'last_updated_datetime')\n",
    "data.show(5)"
   ]
  },
  {
   "cell_type": "code",
   "execution_count": 53,
   "metadata": {},
   "outputs": [
    {
     "name": "stdout",
     "output_type": "stream",
     "text": [
      "+----------+---------+-----------+-----------------+---+----+----+--------+----------------+\n",
      "|Serial No.|GRE Score|TOEFL Score|University Rating|SOP|LOR |CGPA|Research|Chance of Admit |\n",
      "+----------+---------+-----------+-----------------+---+----+----+--------+----------------+\n",
      "|         1|      337|        118|                4|4.5| 4.5|9.65|       1|            0.92|\n",
      "|         2|      324|        107|                4|4.0| 4.5|8.87|       1|            0.76|\n",
      "|         3|      316|        104|                3|3.0| 3.5| 8.0|       1|            0.72|\n",
      "|         4|      322|        110|                3|3.5| 2.5|8.67|       1|             0.8|\n",
      "|         5|      314|        103|                2|2.0| 3.0|8.21|       0|            0.65|\n",
      "+----------+---------+-----------+-----------------+---+----+----+--------+----------------+\n",
      "only showing top 5 rows\n",
      "\n"
     ]
    }
   ],
   "source": [
    "data = data.drop('last_updated_datetime')\n",
    "data.show(5)"
   ]
  },
  {
   "cell_type": "markdown",
   "metadata": {},
   "source": [
    "### Querying Data\n",
    "* Select\n",
    "* filter\n",
    "* Between\n",
    "* When\n",
    "* Like\n",
    "* GroupBy\n",
    "* Aggregations"
   ]
  },
  {
   "cell_type": "code",
   "execution_count": 55,
   "metadata": {},
   "outputs": [
    {
     "name": "stdout",
     "output_type": "stream",
     "text": [
      "+----------------+\n",
      "|Chance of Admit |\n",
      "+----------------+\n",
      "|            0.92|\n",
      "|            0.76|\n",
      "|            0.72|\n",
      "|             0.8|\n",
      "|            0.65|\n",
      "+----------------+\n",
      "only showing top 5 rows\n",
      "\n"
     ]
    }
   ],
   "source": [
    "# Select\n",
    "\n",
    "data.select('Chance of Admit ').show(5)"
   ]
  },
  {
   "cell_type": "code",
   "execution_count": 57,
   "metadata": {},
   "outputs": [
    {
     "name": "stdout",
     "output_type": "stream",
     "text": [
      "+---+----+----------------+\n",
      "|SOP|LOR |Chance of Admit |\n",
      "+---+----+----------------+\n",
      "|4.5| 4.5|            0.92|\n",
      "|4.0| 4.5|            0.76|\n",
      "|3.0| 3.5|            0.72|\n",
      "|3.5| 2.5|             0.8|\n",
      "|2.0| 3.0|            0.65|\n",
      "+---+----+----------------+\n",
      "only showing top 5 rows\n",
      "\n"
     ]
    }
   ],
   "source": [
    "data.select(['SOP', 'LOR ', 'Chance of Admit ']).show(5)"
   ]
  },
  {
   "cell_type": "code",
   "execution_count": 58,
   "metadata": {},
   "outputs": [
    {
     "name": "stdout",
     "output_type": "stream",
     "text": [
      "+----------+---------+-----------+-----------------+---+----+----+--------+----------------+-------------------+\n",
      "|Serial No.|GRE Score|TOEFL Score|University Rating|SOP|LOR |CGPA|Research|Chance of Admit |           DateTime|\n",
      "+----------+---------+-----------+-----------------+---+----+----+--------+----------------+-------------------+\n",
      "|         1|      337|        118|                4|4.5| 4.5|9.65|       1|            0.92|11/12/2022 09:31:32|\n",
      "|         2|      324|        107|                4|4.0| 4.5|8.87|       1|            0.76|11/12/2022 09:31:32|\n",
      "|         3|      316|        104|                3|3.0| 3.5| 8.0|       1|            0.72|11/12/2022 09:31:32|\n",
      "|         4|      322|        110|                3|3.5| 2.5|8.67|       1|             0.8|11/12/2022 09:31:32|\n",
      "|         5|      314|        103|                2|2.0| 3.0|8.21|       0|            0.65|11/12/2022 09:31:32|\n",
      "+----------+---------+-----------+-----------------+---+----+----+--------+----------------+-------------------+\n",
      "only showing top 5 rows\n",
      "\n"
     ]
    }
   ],
   "source": [
    "# lit - used to add a new column to the DataFrame by assigning a literal or constant value.\n",
    "\n",
    "data = data.withColumn('DateTime', lit(dt))\n",
    "data.show(5)"
   ]
  },
  {
   "cell_type": "code",
   "execution_count": 60,
   "metadata": {},
   "outputs": [
    {
     "name": "stdout",
     "output_type": "stream",
     "text": [
      "+----------+---------+-----------+-----------------+---+----+----+--------+----------------+-------------------+\n",
      "|Serial No.|GRE Score|TOEFL Score|University Rating|SOP|LOR |CGPA|Research|Chance of Admit |           DateTime|\n",
      "+----------+---------+-----------+-----------------+---+----+----+--------+----------------+-------------------+\n",
      "|         1|      337|        118|                4|4.5| 4.5|9.65|       1|            0.92|11/12/2022 09:31:32|\n",
      "|         6|      330|        115|                5|4.5| 3.0|9.34|       1|             0.9|11/12/2022 09:31:32|\n",
      "|        24|      334|        119|                5|5.0| 4.5| 9.7|       1|            0.95|11/12/2022 09:31:32|\n",
      "|        25|      336|        119|                5|4.0| 3.5| 9.8|       1|            0.97|11/12/2022 09:31:32|\n",
      "|        26|      340|        120|                5|4.5| 4.5| 9.6|       1|            0.94|11/12/2022 09:31:32|\n",
      "+----------+---------+-----------+-----------------+---+----+----+--------+----------------+-------------------+\n",
      "only showing top 5 rows\n",
      "\n"
     ]
    }
   ],
   "source": [
    "# Filter\n",
    "# AND(&), OR(|), NOT(~)\n",
    "\n",
    "data.filter( (col('GRE Score') >= 330) & (col('CGPA')>=8.5)).show(5)"
   ]
  },
  {
   "cell_type": "code",
   "execution_count": 74,
   "metadata": {},
   "outputs": [
    {
     "name": "stdout",
     "output_type": "stream",
     "text": [
      "+----------+---------+-----------+-----------------+---+----+----+--------+----------------+-------------------+\n",
      "|Serial No.|GRE Score|TOEFL Score|University Rating|SOP|LOR |CGPA|Research|Chance of Admit |           DateTime|\n",
      "+----------+---------+-----------+-----------------+---+----+----+--------+----------------+-------------------+\n",
      "|         6|      330|        115|                5|4.5| 3.0|9.34|       1|             0.9|11/12/2022 09:31:32|\n",
      "|        24|      334|        119|                5|5.0| 4.5| 9.7|       1|            0.95|11/12/2022 09:31:32|\n",
      "|        35|      331|        112|                5|4.0| 5.0| 9.8|       1|            0.94|11/12/2022 09:31:32|\n",
      "|        44|      332|        117|                4|4.5| 4.0| 9.1|       0|            0.87|11/12/2022 09:31:32|\n",
      "|        53|      334|        116|                4|4.0| 3.0| 8.0|       1|            0.78|11/12/2022 09:31:32|\n",
      "+----------+---------+-----------+-----------------+---+----+----+--------+----------------+-------------------+\n",
      "only showing top 5 rows\n",
      "\n"
     ]
    }
   ],
   "source": [
    "# Between\n",
    "\n",
    "data.filter(data['GRE Score'].between(330,335)).show(5)"
   ]
  },
  {
   "cell_type": "code",
   "execution_count": 77,
   "metadata": {},
   "outputs": [
    {
     "name": "stdout",
     "output_type": "stream",
     "text": [
      "+-----------+---------+---------------------------------------+\n",
      "|TOEFL Score|GRE Score|CASE WHEN (CGPA >= 9) THEN 1 ELSE 0 END|\n",
      "+-----------+---------+---------------------------------------+\n",
      "|        118|      337|                                      1|\n",
      "|        107|      324|                                      0|\n",
      "|        104|      316|                                      0|\n",
      "|        110|      322|                                      0|\n",
      "|        103|      314|                                      0|\n",
      "+-----------+---------+---------------------------------------+\n",
      "only showing top 5 rows\n",
      "\n"
     ]
    }
   ],
   "source": [
    "# when\n",
    "import pyspark.sql.functions as f\n",
    "data.select('TOEFL Score', 'GRE Score', f.when(data['CGPA'] >= 9, 1).otherwise(0)).show(5)"
   ]
  },
  {
   "cell_type": "code",
   "execution_count": 80,
   "metadata": {},
   "outputs": [
    {
     "name": "stdout",
     "output_type": "stream",
     "text": [
      "+----------+---------+-----------+-----------------+---+----+----+--------+----------------+-------------------+-------------+\n",
      "|Serial No.|GRE Score|TOEFL Score|University Rating|SOP|LOR |CGPA|Research|Chance of Admit |           DateTime| College_name|\n",
      "+----------+---------+-----------+-----------------+---+----+----+--------+----------------+-------------------+-------------+\n",
      "|         1|      337|        118|                4|4.5| 4.5|9.65|       1|            0.92|11/12/2022 09:31:32|My_University|\n",
      "|         2|      324|        107|                4|4.0| 4.5|8.87|       1|            0.76|11/12/2022 09:31:32|My_University|\n",
      "|         3|      316|        104|                3|3.0| 3.5| 8.0|       1|            0.72|11/12/2022 09:31:32|My_University|\n",
      "|         4|      322|        110|                3|3.5| 2.5|8.67|       1|             0.8|11/12/2022 09:31:32|My_University|\n",
      "|         5|      314|        103|                2|2.0| 3.0|8.21|       0|            0.65|11/12/2022 09:31:32|My_University|\n",
      "+----------+---------+-----------+-----------------+---+----+----+--------+----------------+-------------------+-------------+\n",
      "only showing top 5 rows\n",
      "\n"
     ]
    }
   ],
   "source": [
    "data.show(5)"
   ]
  },
  {
   "cell_type": "code",
   "execution_count": 81,
   "metadata": {},
   "outputs": [
    {
     "name": "stdout",
     "output_type": "stream",
     "text": [
      "+-------------+----------------------------+\n",
      "| College_name|College starting with M or y|\n",
      "+-------------+----------------------------+\n",
      "|My_University|                        true|\n",
      "+-------------+----------------------------+\n",
      "\n"
     ]
    }
   ],
   "source": [
    "data = data.withColumn('College_name', lit('My_University'))\n",
    "# Like - SAME AS SQL LIKE Operation\n",
    "data.select('College_name', data.College_name.rlike('^[M,y]').alias('College starting with M or y')).distinct().show(5)"
   ]
  },
  {
   "cell_type": "code",
   "execution_count": 83,
   "metadata": {},
   "outputs": [
    {
     "name": "stdout",
     "output_type": "stream",
     "text": [
      "+-------------+--------------+----------------+\n",
      "| College_name|avg(GRE Score)|avg(TOEFL Score)|\n",
      "+-------------+--------------+----------------+\n",
      "|My_University|      316.8075|          107.41|\n",
      "+-------------+--------------+----------------+\n",
      "\n"
     ]
    }
   ],
   "source": [
    "# Group By\n",
    "\n",
    "data.select(['GRE Score', 'TOEFL Score', 'College_name']).groupBy('College_name').mean().show()"
   ]
  },
  {
   "cell_type": "code",
   "execution_count": null,
   "metadata": {},
   "outputs": [],
   "source": [
    "# Write/Save Data to File\n",
    "\n",
    "data.write.csv('my_dataset.csv')\n",
    "\n",
    "data.write.json('my_dataset.json')\n",
    "\n"
   ]
  },
  {
   "cell_type": "code",
   "execution_count": 86,
   "metadata": {},
   "outputs": [],
   "source": [
    "data.select(['College_name', 'GRE Score', 'TOEFL Score']).write.csv('col_dataset.csv')"
   ]
  },
  {
   "cell_type": "code",
   "execution_count": 87,
   "metadata": {},
   "outputs": [
    {
     "data": {
      "text/html": [
       "\n",
       "            <div>\n",
       "                <p><b>SparkSession - in-memory</b></p>\n",
       "                \n",
       "        <div>\n",
       "            <p><b>SparkContext</b></p>\n",
       "\n",
       "            <p><a href=\"http://192.168.0.126:4040\">Spark UI</a></p>\n",
       "\n",
       "            <dl>\n",
       "              <dt>Version</dt>\n",
       "                <dd><code>v3.3.1</code></dd>\n",
       "              <dt>Master</dt>\n",
       "                <dd><code>local[*]</code></dd>\n",
       "              <dt>AppName</dt>\n",
       "                <dd><code>Practice</code></dd>\n",
       "            </dl>\n",
       "        </div>\n",
       "        \n",
       "            </div>\n",
       "        "
      ],
      "text/plain": [
       "<pyspark.sql.session.SparkSession at 0x117cbec40>"
      ]
     },
     "execution_count": 87,
     "metadata": {},
     "output_type": "execute_result"
    },
    {
     "name": "stdout",
     "output_type": "stream",
     "text": [
      "22/12/12 00:44:32 WARN HeartbeatReceiver: Removing executor driver with no recent heartbeats: 1060147 ms exceeds timeout 120000 ms\n",
      "22/12/12 00:44:32 WARN SparkContext: Killing executors is not supported by current scheduler.\n"
     ]
    }
   ],
   "source": [
    "spark"
   ]
  },
  {
   "cell_type": "code",
   "execution_count": 88,
   "metadata": {},
   "outputs": [
    {
     "name": "stdout",
     "output_type": "stream",
     "text": [
      "+----------+---------+-----------+-----------------+---+----+----+--------+----------------+-------------------+-------------+\n",
      "|Serial No.|GRE Score|TOEFL Score|University Rating|SOP|LOR |CGPA|Research|Chance of Admit |           DateTime| College_name|\n",
      "+----------+---------+-----------+-----------------+---+----+----+--------+----------------+-------------------+-------------+\n",
      "|         1|      337|        118|                4|4.5| 4.5|9.65|       1|            0.92|11/12/2022 09:31:32|My_University|\n",
      "|         2|      324|        107|                4|4.0| 4.5|8.87|       1|            0.76|11/12/2022 09:31:32|My_University|\n",
      "|         3|      316|        104|                3|3.0| 3.5| 8.0|       1|            0.72|11/12/2022 09:31:32|My_University|\n",
      "|         4|      322|        110|                3|3.5| 2.5|8.67|       1|             0.8|11/12/2022 09:31:32|My_University|\n",
      "|         5|      314|        103|                2|2.0| 3.0|8.21|       0|            0.65|11/12/2022 09:31:32|My_University|\n",
      "+----------+---------+-----------+-----------------+---+----+----+--------+----------------+-------------------+-------------+\n",
      "only showing top 5 rows\n",
      "\n"
     ]
    }
   ],
   "source": [
    "data.show(5)"
   ]
  },
  {
   "cell_type": "code",
   "execution_count": 93,
   "metadata": {},
   "outputs": [
    {
     "data": {
      "text/plain": [
       "400"
      ]
     },
     "execution_count": 93,
     "metadata": {},
     "output_type": "execute_result"
    },
    {
     "ename": "",
     "evalue": "",
     "output_type": "error",
     "traceback": [
      "\u001b[1;31mThe Kernel crashed while executing code in the the current cell or a previous cell. Please review the code in the cell(s) to identify a possible cause of the failure. Click <a href='https://aka.ms/vscodeJupyterKernelCrash'>here</a> for more info. View Jupyter <a href='command:jupyter.viewOutput'>log</a> for further details."
     ]
    }
   ],
   "source": [
    "data.createOrReplaceTempView('Admission')\n",
    "df2 = spark.sql('Select * from Admission')\n",
    "df2.count()"
   ]
  },
  {
   "cell_type": "code",
   "execution_count": 90,
   "metadata": {},
   "outputs": [
    {
     "data": {
      "text/plain": [
       "Row(Serial No.=1, GRE Score=337, TOEFL Score=118, University Rating=4, SOP=4.5, LOR =4.5, CGPA=9.649999618530273, Research=1, Chance of Admit =0.9200000166893005, DateTime='11/12/2022 09:31:32', College_name='My_University')"
      ]
     },
     "execution_count": 90,
     "metadata": {},
     "output_type": "execute_result"
    }
   ],
   "source": [
    "df2.head()"
   ]
  },
  {
   "cell_type": "code",
   "execution_count": 91,
   "metadata": {},
   "outputs": [
    {
     "data": {
      "text/plain": [
       "Row(Serial No.=1, GRE Score=337, TOEFL Score=118, University Rating=4, SOP=4.5, LOR =4.5, CGPA=9.649999618530273, Research=1, Chance of Admit =0.9200000166893005, DateTime='11/12/2022 09:31:32', College_name='My_University')"
      ]
     },
     "execution_count": 91,
     "metadata": {},
     "output_type": "execute_result"
    }
   ],
   "source": [
    "df2 = spark.sql('Select * from Admission where CGPA > 9')\n",
    "df2.head()"
   ]
  },
  {
   "cell_type": "code",
   "execution_count": 92,
   "metadata": {},
   "outputs": [
    {
     "data": {
      "text/plain": [
       "113"
      ]
     },
     "execution_count": 92,
     "metadata": {},
     "output_type": "execute_result"
    }
   ],
   "source": [
    "df2.count()"
   ]
  },
  {
   "cell_type": "code",
   "execution_count": null,
   "metadata": {},
   "outputs": [],
   "source": []
  }
 ],
 "metadata": {
  "kernelspec": {
   "display_name": "Python 3",
   "language": "python",
   "name": "python3"
  },
  "language_info": {
   "codemirror_mode": {
    "name": "ipython",
    "version": 3
   },
   "file_extension": ".py",
   "mimetype": "text/x-python",
   "name": "python",
   "nbconvert_exporter": "python",
   "pygments_lexer": "ipython3",
   "version": "3.8.0"
  },
  "orig_nbformat": 4,
  "vscode": {
   "interpreter": {
    "hash": "aee8b7b246df8f9039afb4144a1f6fd8d2ca17a180786b69acc140d282b71a49"
   }
  }
 },
 "nbformat": 4,
 "nbformat_minor": 2
}
