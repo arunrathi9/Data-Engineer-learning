{
 "cells": [
  {
   "attachments": {},
   "cell_type": "markdown",
   "metadata": {},
   "source": [
    "# Step 2 - Consume your data through the python connector and dump it in mongodb atlas."
   ]
  },
  {
   "cell_type": "code",
   "execution_count": 1,
   "metadata": {},
   "outputs": [],
   "source": [
    "import argparse\n",
    "\n",
    "from confluent_kafka import Consumer\n",
    "from confluent_kafka.schema_registry import SchemaRegistryClient\n",
    "from confluent_kafka.serialization import SerializationContext, MessageField\n",
    "from confluent_kafka.schema_registry.json_schema import JSONDeserializer"
   ]
  },
  {
   "cell_type": "code",
   "execution_count": 3,
   "metadata": {},
   "outputs": [],
   "source": [
    "# Variables\n",
    "API_KEY = '***Removed while uploading code to github, add again to run*****'\n",
    "ENDPOINT_SCHEMA_URL  = 'https://psrc-8qyy0.eastus2.azure.confluent.cloud'\n",
    "API_SECRET_KEY = '***Removed while uploading code to github, add again to run*****'\n",
    "BOOTSTRAP_SERVER = 'pkc-n00kk.us-east-1.aws.confluent.cloud:9092'\n",
    "SECURITY_PROTOCOL = 'SASL_SSL'\n",
    "SSL_MACHENISM = 'PLAIN'\n",
    "SCHEMA_REGISTRY_API_KEY = 'BS3PHBXGYPRUDGFP'\n",
    "SCHEMA_REGISTRY_API_SECRET = '***Removed while uploading code to github, add again to run*****'\n"
   ]
  },
  {
   "cell_type": "code",
   "execution_count": 4,
   "metadata": {},
   "outputs": [],
   "source": [
    "def sasl_conf():\n",
    "\n",
    "    sasl_conf = {'sasl.mechanism': SSL_MACHENISM,\n",
    "                 # Set to SASL_SSL to enable TLS support.\n",
    "                #  'security.protocol': 'SASL_PLAINTEXT'}\n",
    "                'bootstrap.servers':BOOTSTRAP_SERVER,\n",
    "                'security.protocol': SECURITY_PROTOCOL,\n",
    "                'sasl.username': API_KEY,\n",
    "                'sasl.password': API_SECRET_KEY\n",
    "                }\n",
    "    return sasl_conf\n",
    "\n",
    "def schema_config():\n",
    "    return {'url':ENDPOINT_SCHEMA_URL,\n",
    "    'basic.auth.user.info':f\"{SCHEMA_REGISTRY_API_KEY}:{SCHEMA_REGISTRY_API_SECRET}\"\n",
    "    }\n",
    "\n",
    "class Car:   \n",
    "    def __init__(self,record:dict):\n",
    "        for k,v in record.items():\n",
    "            setattr(self,k,v)\n",
    "        \n",
    "        self.record=record\n",
    "   \n",
    "    @staticmethod\n",
    "    def dict_to_car(data:dict,ctx):\n",
    "        return Car(record=data)\n",
    "\n",
    "    def __str__(self):\n",
    "        return f\"{self.record}\"\n",
    "\n",
    "\n",
    "def kafka_consumer(topic, schema_id):\n",
    "    schema_registry_conf = schema_config()\n",
    "    schema_registry_client = SchemaRegistryClient(schema_registry_conf)\n",
    "\n",
    "    print('reading schema')\n",
    "    schema_str = schema_registry_client.get_schema(schema_id).schema_str\n",
    "    print(schema_str)\n",
    "    json_deserializer = JSONDeserializer(schema_str,\n",
    "                                         from_dict=Car.dict_to_car)\n",
    "\n",
    "    print(\"deserializer start\")\n",
    "    consumer_conf = sasl_conf()\n",
    "    consumer_conf.update({\n",
    "                     'group.id': 'group1',\n",
    "                     'auto.offset.reset': \"latest\"})\n",
    "\n",
    "    print('consumer')\n",
    "    consumer = Consumer(consumer_conf)\n",
    "    consumer.subscribe([topic])\n",
    "\n",
    "\n",
    "    while True:\n",
    "        try:\n",
    "            # SIGINT can't be handled when polling, limit timeout to 1 second.\n",
    "            msg = consumer.poll(1.0)\n",
    "            if msg is None:\n",
    "                continue\n",
    "\n",
    "            car = json_deserializer(msg.value(), SerializationContext(msg.topic(), MessageField.VALUE))\n",
    "\n",
    "            if car is not None:\n",
    "                print(\"User record {}: car: {}\\n\"\n",
    "                      .format(msg.key(), car))\n",
    "        except KeyboardInterrupt:\n",
    "            break\n",
    "\n",
    "    consumer.close()"
   ]
  },
  {
   "attachments": {},
   "cell_type": "markdown",
   "metadata": {},
   "source": [
    "## Case CSV file"
   ]
  },
  {
   "cell_type": "code",
   "execution_count": 7,
   "metadata": {},
   "outputs": [],
   "source": [
    "topic = 'topic_case'\n",
    "schema_id = 100005"
   ]
  },
  {
   "cell_type": "code",
   "execution_count": null,
   "metadata": {},
   "outputs": [],
   "source": [
    "kafka_consumer(topic, schema_id)"
   ]
  },
  {
   "attachments": {},
   "cell_type": "markdown",
   "metadata": {},
   "source": [
    "## Patientinfo CSV file"
   ]
  },
  {
   "cell_type": "code",
   "execution_count": 5,
   "metadata": {},
   "outputs": [],
   "source": [
    "topic = 'topic_patientinfo'\n",
    "schema_id = 100007"
   ]
  },
  {
   "cell_type": "code",
   "execution_count": null,
   "metadata": {},
   "outputs": [],
   "source": [
    "kafka_consumer(topic, schema_id)"
   ]
  },
  {
   "attachments": {},
   "cell_type": "markdown",
   "metadata": {},
   "source": [
    "## Policy CSV file"
   ]
  },
  {
   "cell_type": "code",
   "execution_count": 10,
   "metadata": {},
   "outputs": [],
   "source": [
    "topic = 'topic_policy'\n",
    "schema_id = 100008"
   ]
  },
  {
   "cell_type": "code",
   "execution_count": null,
   "metadata": {},
   "outputs": [],
   "source": [
    "kafka_consumer(topic, schema_id)"
   ]
  },
  {
   "attachments": {},
   "cell_type": "markdown",
   "metadata": {},
   "source": [
    "## Region CSV file"
   ]
  },
  {
   "cell_type": "code",
   "execution_count": 12,
   "metadata": {},
   "outputs": [],
   "source": [
    "topic = 'topic_region'\n",
    "schema_id = 100009"
   ]
  },
  {
   "cell_type": "code",
   "execution_count": null,
   "metadata": {},
   "outputs": [],
   "source": [
    "kafka_consumer(topic, schema_id)"
   ]
  },
  {
   "attachments": {},
   "cell_type": "markdown",
   "metadata": {},
   "source": [
    "## SearchTrend CSV file"
   ]
  },
  {
   "cell_type": "code",
   "execution_count": 14,
   "metadata": {},
   "outputs": [],
   "source": [
    "topic = 'topic_searchtrend'\n",
    "schema_id = 100010"
   ]
  },
  {
   "cell_type": "code",
   "execution_count": null,
   "metadata": {},
   "outputs": [],
   "source": [
    "kafka_consumer(topic, schema_id)"
   ]
  },
  {
   "attachments": {},
   "cell_type": "markdown",
   "metadata": {},
   "source": [
    "## SeoulFloating CSV file"
   ]
  },
  {
   "cell_type": "code",
   "execution_count": 16,
   "metadata": {},
   "outputs": [],
   "source": [
    "topic = 'topic_seoulfloating'\n",
    "schema_id = 100011"
   ]
  },
  {
   "cell_type": "code",
   "execution_count": null,
   "metadata": {},
   "outputs": [],
   "source": [
    "kafka_consumer(topic, schema_id)"
   ]
  },
  {
   "attachments": {},
   "cell_type": "markdown",
   "metadata": {},
   "source": [
    "## Time CSV file"
   ]
  },
  {
   "cell_type": "code",
   "execution_count": 19,
   "metadata": {},
   "outputs": [],
   "source": [
    "topic = 'topic_time'\n",
    "schema_id = 100012"
   ]
  },
  {
   "cell_type": "code",
   "execution_count": null,
   "metadata": {},
   "outputs": [],
   "source": [
    "kafka_consumer(topic, schema_id)"
   ]
  },
  {
   "attachments": {},
   "cell_type": "markdown",
   "metadata": {},
   "source": [
    "## TimeAge CSV file"
   ]
  },
  {
   "cell_type": "code",
   "execution_count": 21,
   "metadata": {},
   "outputs": [],
   "source": [
    "topic = 'topic_timeage'\n",
    "schema_id = 100013"
   ]
  },
  {
   "cell_type": "code",
   "execution_count": null,
   "metadata": {},
   "outputs": [],
   "source": [
    "kafka_consumer(topic, schema_id)"
   ]
  },
  {
   "attachments": {},
   "cell_type": "markdown",
   "metadata": {},
   "source": [
    "## TimeGender CSV file"
   ]
  },
  {
   "cell_type": "code",
   "execution_count": 23,
   "metadata": {},
   "outputs": [],
   "source": [
    "topic = 'topic_timegender'\n",
    "schema_id = 100014"
   ]
  },
  {
   "cell_type": "code",
   "execution_count": null,
   "metadata": {},
   "outputs": [],
   "source": [
    "kafka_consumer(topic, schema_id)"
   ]
  },
  {
   "attachments": {},
   "cell_type": "markdown",
   "metadata": {},
   "source": [
    "## TimeProvince CSV file"
   ]
  },
  {
   "cell_type": "code",
   "execution_count": 25,
   "metadata": {},
   "outputs": [],
   "source": [
    "topic = 'topic_timeprovince'\n",
    "schema_id = 100015"
   ]
  },
  {
   "cell_type": "code",
   "execution_count": null,
   "metadata": {},
   "outputs": [],
   "source": [
    "kafka_consumer(topic, schema_id)"
   ]
  },
  {
   "attachments": {},
   "cell_type": "markdown",
   "metadata": {},
   "source": [
    "## Weather CSV file"
   ]
  },
  {
   "cell_type": "code",
   "execution_count": 27,
   "metadata": {},
   "outputs": [],
   "source": [
    "topic = 'topic_weather'\n",
    "schema_id = 100016"
   ]
  },
  {
   "cell_type": "code",
   "execution_count": null,
   "metadata": {},
   "outputs": [],
   "source": [
    "kafka_consumer(topic, schema_id)"
   ]
  }
 ],
 "metadata": {
  "kernelspec": {
   "display_name": "Python 3",
   "language": "python",
   "name": "python3"
  },
  "language_info": {
   "codemirror_mode": {
    "name": "ipython",
    "version": 3
   },
   "file_extension": ".py",
   "mimetype": "text/x-python",
   "name": "python",
   "nbconvert_exporter": "python",
   "pygments_lexer": "ipython3",
   "version": "3.8.0"
  },
  "orig_nbformat": 4,
  "vscode": {
   "interpreter": {
    "hash": "aee8b7b246df8f9039afb4144a1f6fd8d2ca17a180786b69acc140d282b71a49"
   }
  }
 },
 "nbformat": 4,
 "nbformat_minor": 2
}
