{
 "cells": [
  {
   "attachments": {},
   "cell_type": "markdown",
   "metadata": {},
   "source": [
    "# Spark Project\n",
    "\n",
    "**Dataset** - https://www.kaggle.com/datasets/kimjihoo/coronavirusdataset\n",
    "\n",
    "Step 1 - Create a producer with a python connector in confluent kafka and\n",
    "stream your data.\n",
    "\n",
    "Step 2 - Consume your data through the python connector and dump it in\n",
    "mongodb atlas.\n",
    "Note: Here in the dataset you will be finding a multiple files you\n",
    "need to use all file for the kafka and mongodb\n",
    "\n",
    "Step 3 - Collect your data as a pyspark dataframe and perform different\n",
    "operations.<br>\n",
    "Note: Consider only three files for creating a dataframe among all\n",
    "case, region and TimeProvince<br>\n",
    "1. Read the data, show it and Count the number of records.\n",
    "2. Describe the data with a describe function.\n",
    "3. If there is any duplicate value drop it.\n",
    "4. Use limit function for showcasing a limited number of\n",
    "records.\n",
    "5. If you find the column name is not suitable, change the\n",
    "column name.[optional]\n",
    "6. Select the subset of the columns.\n",
    "7. If there is any null value, fill it with any random value or drop\n",
    "it.\n",
    "8. Filter the data based on different columns or variables and\n",
    "do the best analysis.\n",
    "<br>For example: We can filter a data frame using multiple\n",
    "conditions using AND(&), OR(|) and NOT(~) conditions. For\n",
    "example, we may want to find out all the dif erent\n",
    "infection_case in Daegu Province with more than 10\n",
    "confirmed cases.</br>\n",
    "9. Sort the number of confirmed cases. Confirmed column is\n",
    "there in the dataset. Check with descending sort also.\n",
    "10. In case of any wrong data type, cast that data type from\n",
    "integer to string or string to integer.\n",
    "Use group by on top of province and city column and agg it\n",
    "with sum of confirmed cases. For example\n",
    "df.groupBy([\"province\",\"city\"]).agg(function.sum(\"co\n",
    "nfirmed\")\n",
    "11. For joins we will need one more file.you can use region file.\n",
    "User different different join methods.for example\n",
    "cases.join(regions, ['province','city'],how='left')\n",
    "You can do your best analysis.\n",
    "\n",
    "Step 5 - If you want, you can also use SQL with data frames. Let us try to\n",
    "run some SQL on the cases table.<br>\n",
    "For example:<br>\n",
    "cases.registerTempTable('cases_table')<br>\n",
    "newDF = sqlContext.sql('select * from cases_table where\n",
    "confirmed>100')<br>\n",
    "newDF.show()\n",
    "<br>\n",
    "<t>\n",
    "<br>\n",
    "Here is a example how you can use df for sql now you can perform\n",
    "various operations with GROUP BY, HAVING, AND ORDER BY\n",
    "\n",
    "Step 6 - Create Spark UDFs\n",
    "Create function casehighlow()<br>\n",
    "If case is less than 50 return low else return high<br>\n",
    "convert into a UDF Function and mention the return type of\n",
    "function.<br>\n",
    "Note: You can create as many as udf based on analysis."
   ]
  },
  {
   "attachments": {},
   "cell_type": "markdown",
   "metadata": {},
   "source": [
    "### Step 1 - Create a producer with a python connector in confluent kafka and stream your data."
   ]
  },
  {
   "attachments": {},
   "cell_type": "markdown",
   "metadata": {},
   "source": [
    "### Importing all needed packages\n"
   ]
  },
  {
   "cell_type": "code",
   "execution_count": 15,
   "metadata": {},
   "outputs": [],
   "source": [
    "# importing packages\n",
    "\n",
    "import argparse\n",
    "from uuid import uuid4\n",
    "from six.moves import input\n",
    "from confluent_kafka import Producer\n",
    "from confluent_kafka.serialization import StringSerializer, SerializationContext, MessageField\n",
    "from confluent_kafka.schema_registry import SchemaRegistryClient\n",
    "from confluent_kafka.schema_registry.json_schema import JSONSerializer\n",
    "\n",
    "import pandas as pd\n",
    "from pandas.io.json import build_table_schema\n",
    "import json\n",
    "from typing import List\n",
    "from zipfile import ZipFile\n",
    "\n",
    "from pyspark.sql import SparkSession\n",
    "from pyspark.sql.functions import col\n",
    "from pyspark.sql.types import FloatType, DoubleType, IntegerType"
   ]
  },
  {
   "cell_type": "code",
   "execution_count": 16,
   "metadata": {},
   "outputs": [],
   "source": [
    "# Kafka essentials details\n",
    "\n",
    "# Variables\n",
    "API_KEY = 'AMTQUJ4OYGGMNYOJ'\n",
    "ENDPOINT_SCHEMA_URL  = 'https://psrc-8qyy0.eastus2.azure.confluent.cloud'\n",
    "API_SECRET_KEY = '4HTAJgLsRtyeQjCpKZItrYiCs7eduapoIzAkFApIZer4nzPQ2i53tPWe58TGuPY/'\n",
    "BOOTSTRAP_SERVER = 'pkc-n00kk.us-east-1.aws.confluent.cloud:9092'\n",
    "SECURITY_PROTOCOL = 'SASL_SSL'\n",
    "SSL_MACHENISM = 'PLAIN'\n",
    "SCHEMA_REGISTRY_API_KEY = 'BS3PHBXGYPRUDGFP'\n",
    "SCHEMA_REGISTRY_API_SECRET = 'gMwNVdkw1Cn5pFHmtFKrZam64E5HeDEo1dJu2hxCcUSSjaIkuscBUw6ucAlmjT2l'"
   ]
  },
  {
   "attachments": {},
   "cell_type": "markdown",
   "metadata": {},
   "source": [
    "## Kafka Producer class"
   ]
  },
  {
   "cell_type": "code",
   "execution_count": 17,
   "metadata": {},
   "outputs": [],
   "source": [
    "def sasl_conf():\n",
    "    # connection of producer to kakfa confluent  \n",
    "    sasl_conf = {'sasl.mechanism': SSL_MACHENISM,\n",
    "                 # Set to SASL_SSL to enable TLS support.\n",
    "                #  'security.protocol': 'SASL_PLAINTEXT'}\n",
    "                'bootstrap.servers':BOOTSTRAP_SERVER,\n",
    "                'security.protocol': SECURITY_PROTOCOL,\n",
    "                'sasl.username': API_KEY,\n",
    "                'sasl.password': API_SECRET_KEY\n",
    "                }\n",
    "    return sasl_conf\n",
    "\n",
    "\n",
    "def schema_config():\n",
    "    # schema registry authentication\n",
    "    return {'url':ENDPOINT_SCHEMA_URL,\n",
    "    'basic.auth.user.info':f\"{SCHEMA_REGISTRY_API_KEY}:{SCHEMA_REGISTRY_API_SECRET}\"\n",
    "    }\n",
    "\n",
    "def delivery_report(err, msg):\n",
    "    \"\"\"\n",
    "    Reports the success or failure of a message delivery.\n",
    "    Args:\n",
    "        err (KafkaError): The error that occurred on None on success.\n",
    "        msg (Message): The message that was produced or failed.\n",
    "    \"\"\"\n",
    "\n",
    "    if err is not None:\n",
    "        print(\"Delivery failed for User record {}: {}\".format(msg.key(), err))\n",
    "        return\n",
    "    print('User record {} successfully produced to {} [{}] at offset {}'.format(\n",
    "        msg.key(), msg.topic(), msg.partition(), msg.offset()))\n",
    "\n",
    "class Car: \n",
    "    # constructor  \n",
    "    def __init__(self,record:dict):\n",
    "        for k,v in record.items():\n",
    "            setattr(self,k,v)\n",
    "        \n",
    "        self.record=record\n",
    "   \n",
    "    @staticmethod\n",
    "    def dict_to_car(data:dict,ctx):\n",
    "        return Car(record=data)\n",
    "\n",
    "    def __str__(self):\n",
    "        return f\"{self.record}\"\n",
    "\n",
    "def car_to_dict(car:Car, ctx):\n",
    "    \"\"\"\n",
    "    Returns a dict representation of a User instance for serialization.\n",
    "    Args:\n",
    "        user (User): User instance.\n",
    "        ctx (SerializationContext): Metadata pertaining to the serialization\n",
    "            operation.\n",
    "    Returns:\n",
    "        dict: Dict populated with user attributes to be serialized.\n",
    "    \"\"\"\n",
    "\n",
    "    # User._address must not be serialized; omit from dict\n",
    "    return car.record\n",
    "\n",
    "# read the data from csv file\n",
    "def get_car_instance(file_path, columns):\n",
    "    df=pd.read_csv(file_path)\n",
    "    df=df.iloc[:,:] \n",
    "    cars:List[Car]=[]\n",
    "    #df.replace(np.nan, '', regex=True)\n",
    "    nan_values = df.isna().any()\n",
    "    for col, val in nan_values.items():\n",
    "        #print(col, val)\n",
    "        #break\n",
    "        if val == True:\n",
    "            type_ = df[col].dtype.name\n",
    "            #print(type_)\n",
    "            if type_ == 'int64' or type_ == 'int32':\n",
    "                df[col].fillna(0, inplace=True)\n",
    "            else:\n",
    "                df[col].fillna(\"*miss*\", inplace=True)\n",
    "    for data in df.values:\n",
    "        car=Car(dict(zip(columns,data)))\n",
    "        cars.append(car)\n",
    "        yield car\n",
    "\n",
    "def streamingToKafka(FILE_PATH, topic, schema_id, columns, processing_col_count):\n",
    "    schema_registry_conf = schema_config()\n",
    "    schema_registry_client = SchemaRegistryClient(schema_registry_conf)\n",
    "\n",
    "    schema_str = schema_registry_client.get_schema(schema_id).schema_str\n",
    "\n",
    "    string_serializer = StringSerializer('utf_8')\n",
    "    json_serializer = JSONSerializer(schema_str, schema_registry_client, car_to_dict)\n",
    "\n",
    "    producer = Producer(sasl_conf())\n",
    "\n",
    "    print(\"Producing user records to topic {}. ^C to exit.\".format(topic))\n",
    "    #while True:\n",
    "        # Serve on_delivery callbacks from previous calls to produce()\n",
    "    producer.poll(0.0)\n",
    "    try:\n",
    "        count = 0\n",
    "        #for idx,car in enumerate(get_car_instance(FILE_PATH, columns)):\n",
    "        for car in get_car_instance(FILE_PATH, columns):\n",
    "            print(car)\n",
    "            producer.produce(topic=topic,\n",
    "                            key=string_serializer(str(uuid4()), car_to_dict),\n",
    "                            value=json_serializer(car, SerializationContext(topic, MessageField.VALUE)),\n",
    "                            on_delivery=delivery_report)\n",
    "            count += 1\n",
    "            if count > processing_col_count:\n",
    "                break\n",
    "            # if idx == 2:\n",
    "            #     break\n",
    "            #break\n",
    "    except KeyboardInterrupt:\n",
    "        pass\n",
    "    except ValueError:\n",
    "        print(\"Invalid input, discarding record...\")\n",
    "        pass\n",
    "\n",
    "    print(\"\\nFlushing records...\")\n",
    "    producer.flush()"
   ]
  },
  {
   "cell_type": "code",
   "execution_count": 99,
   "metadata": {},
   "outputs": [
    {
     "name": "stdout",
     "output_type": "stream",
     "text": [
      "Added:  Case.csv\n",
      "Added:  PatientInfo.csv\n",
      "Added:  Policy.csv\n",
      "Added:  Region.csv\n",
      "Added:  SearchTrend.csv\n",
      "Added:  SeoulFloating.csv\n",
      "Added:  Time.csv\n",
      "Added:  TimeAge.csv\n",
      "Added:  TimeGender.csv\n",
      "Added:  TimeProvince.csv\n",
      "Added:  Weather.csv\n",
      "done\n"
     ]
    }
   ],
   "source": [
    "file_name_list = []\n",
    "file_name = \"dataset.zip\"\n",
    "with ZipFile(file_name, 'r') as zipfile:\n",
    "    for zipInfo in zip.filelist:\n",
    "        print(\"Added: \", zipInfo.filename)\n",
    "        file_name_list.append(zipInfo.filename)\n",
    "    #zip.extractall()\n",
    "    print(\"done\")"
   ]
  },
  {
   "cell_type": "code",
   "execution_count": 18,
   "metadata": {},
   "outputs": [],
   "source": [
    "kafka_basic_schema = {\n",
    "  \"$id\": \"http://example.com/myURI.schema.json\",\n",
    "  \"$schema\": \"http://json-schema.org/draft-07/schema#\",\n",
    "  \"additionalProperties\": False,\n",
    "  \"description\": \"Sample schema to help you get started.\",\n",
    "  \"title\": \"SampleRecord\",\n",
    "  \"type\": \"object\"\n",
    "}"
   ]
  },
  {
   "attachments": {},
   "cell_type": "markdown",
   "metadata": {},
   "source": [
    "## Case file processing"
   ]
  },
  {
   "cell_type": "code",
   "execution_count": 82,
   "metadata": {},
   "outputs": [],
   "source": [
    "case_df = pd.read_csv('Case.csv')\n",
    "case_df_schema = build_table_schema(case_df, index=False, version=False)['fields']"
   ]
  },
  {
   "cell_type": "code",
   "execution_count": 88,
   "metadata": {},
   "outputs": [
    {
     "data": {
      "text/plain": [
       "[{'type': 'integer', 'description': 'case_id'},\n",
       " {'type': 'string', 'description': 'province'},\n",
       " {'type': 'string', 'description': 'city'},\n",
       " {'type': 'boolean', 'description': 'group'},\n",
       " {'type': 'string', 'description': 'infection_case'},\n",
       " {'type': 'integer', 'description': 'confirmed'},\n",
       " {'type': 'string', 'description': 'latitude'},\n",
       " {'type': 'string', 'description': 'longitude'}]"
      ]
     },
     "execution_count": 88,
     "metadata": {},
     "output_type": "execute_result"
    }
   ],
   "source": [
    "#renaming the dictionary key from name to description\n",
    "# to match the kafka schema string\n",
    "for value in case_df_schema:\n",
    "    value['description'] = value.pop('name')\n",
    "\n",
    "case_df_schema"
   ]
  },
  {
   "cell_type": "code",
   "execution_count": 90,
   "metadata": {},
   "outputs": [],
   "source": [
    "case_df_final_schema = kafka_basic_schema.copy()\n",
    "case_df_final_schema['properties'] = {}\n",
    "for value in case_df_schema:\n",
    "    name = value['description']\n",
    "    value.pop('description')\n",
    "    case_df_final_schema['properties'][name] = value"
   ]
  },
  {
   "cell_type": "code",
   "execution_count": 91,
   "metadata": {},
   "outputs": [
    {
     "data": {
      "text/plain": [
       "{'$id': 'http://example.com/myURI.schema.json',\n",
       " '$schema': 'http://json-schema.org/draft-07/schema#',\n",
       " 'additionalProperties': False,\n",
       " 'description': 'Sample schema to help you get started.',\n",
       " 'title': 'SampleRecord',\n",
       " 'type': 'object',\n",
       " 'properties': {'case_id': {'type': 'integer'},\n",
       "  'province': {'type': 'string'},\n",
       "  'city': {'type': 'string'},\n",
       "  'group': {'type': 'boolean'},\n",
       "  'infection_case': {'type': 'string'},\n",
       "  'confirmed': {'type': 'integer'},\n",
       "  'latitude': {'type': 'string'},\n",
       "  'longitude': {'type': 'string'}}}"
      ]
     },
     "execution_count": 91,
     "metadata": {},
     "output_type": "execute_result"
    }
   ],
   "source": [
    "case_df_final_schema"
   ]
  },
  {
   "cell_type": "code",
   "execution_count": 93,
   "metadata": {},
   "outputs": [],
   "source": [
    "# schema_registry_conf = schema_config()\n",
    "# schema_registry_client = SchemaRegistryClient(schema_registry_conf)"
   ]
  },
  {
   "cell_type": "code",
   "execution_count": 109,
   "metadata": {},
   "outputs": [],
   "source": [
    "# Schema.schema_str = json.dumps(case_df_final_schema)\n",
    "# Schema.schema_type = 'JSON'"
   ]
  },
  {
   "cell_type": "code",
   "execution_count": null,
   "metadata": {},
   "outputs": [],
   "source": [
    "# id = schema_registry_client.register_schema(\"case_schema\", Schema)\n",
    "# id"
   ]
  },
  {
   "cell_type": "code",
   "execution_count": 88,
   "metadata": {},
   "outputs": [],
   "source": [
    "FILE_PATH = 'Case.csv'\n",
    "topic = \"topic_case\"\n",
    "schema_id = 100005\n",
    "cols = list(pd.read_csv(FILE_PATH).columns)"
   ]
  },
  {
   "cell_type": "code",
   "execution_count": null,
   "metadata": {},
   "outputs": [],
   "source": [
    "streamingToKafka(FILE_PATH, topic, schema_id, cols)"
   ]
  },
  {
   "attachments": {},
   "cell_type": "markdown",
   "metadata": {},
   "source": [
    "## PatientInfo CSV file"
   ]
  },
  {
   "cell_type": "code",
   "execution_count": 53,
   "metadata": {},
   "outputs": [],
   "source": [
    "patient_info_df = pd.read_csv('PatientInfo.csv')\n",
    "patient_info_df_schema = build_table_schema(patient_info_df, index=False, version=False)['fields']"
   ]
  },
  {
   "cell_type": "code",
   "execution_count": 7,
   "metadata": {},
   "outputs": [
    {
     "data": {
      "text/plain": [
       "[{'type': 'integer', 'description': 'patient_id'},\n",
       " {'type': 'string', 'description': 'sex'},\n",
       " {'type': 'string', 'description': 'age'},\n",
       " {'type': 'string', 'description': 'country'},\n",
       " {'type': 'string', 'description': 'province'},\n",
       " {'type': 'string', 'description': 'city'},\n",
       " {'type': 'string', 'description': 'infection_case'},\n",
       " {'type': 'string', 'description': 'infected_by'},\n",
       " {'type': 'string', 'description': 'contact_number'},\n",
       " {'type': 'string', 'description': 'symptom_onset_date'},\n",
       " {'type': 'string', 'description': 'confirmed_date'},\n",
       " {'type': 'string', 'description': 'released_date'},\n",
       " {'type': 'string', 'description': 'deceased_date'},\n",
       " {'type': 'string', 'description': 'state'}]"
      ]
     },
     "execution_count": 7,
     "metadata": {},
     "output_type": "execute_result"
    }
   ],
   "source": [
    "#renaming the dictionary key from name to description\n",
    "# to match the kafka schema string\n",
    "for value in patient_info_df_schema:\n",
    "    value['description'] = value.pop('name')\n",
    "\n",
    "patient_info_df_schema"
   ]
  },
  {
   "cell_type": "code",
   "execution_count": 8,
   "metadata": {},
   "outputs": [],
   "source": [
    "patient_info_df_final_schema = kafka_basic_schema.copy()\n",
    "patient_info_df_final_schema['properties'] = {}\n",
    "for value in patient_info_df_schema:\n",
    "    name = value['description']\n",
    "    value.pop('description')\n",
    "    patient_info_df_final_schema['properties'][name] = value"
   ]
  },
  {
   "cell_type": "code",
   "execution_count": 11,
   "metadata": {},
   "outputs": [
    {
     "name": "stdout",
     "output_type": "stream",
     "text": [
      "{\"$id\": \"http://example.com/myURI.schema.json\", \"$schema\": \"http://json-schema.org/draft-07/schema#\", \"additionalProperties\": false, \"description\": \"Sample schema to help you get started.\", \"title\": \"SampleRecord\", \"type\": \"object\", \"properties\": {\"patient_id\": {\"type\": \"integer\"}, \"sex\": {\"type\": \"string\"}, \"age\": {\"type\": \"string\"}, \"country\": {\"type\": \"string\"}, \"province\": {\"type\": \"string\"}, \"city\": {\"type\": \"string\"}, \"infection_case\": {\"type\": \"string\"}, \"infected_by\": {\"type\": \"string\"}, \"contact_number\": {\"type\": \"string\"}, \"symptom_onset_date\": {\"type\": \"string\"}, \"confirmed_date\": {\"type\": \"string\"}, \"released_date\": {\"type\": \"string\"}, \"deceased_date\": {\"type\": \"string\"}, \"state\": {\"type\": \"string\"}}}\n"
     ]
    }
   ],
   "source": [
    "print(json.dumps(patient_info_df_final_schema))"
   ]
  },
  {
   "cell_type": "code",
   "execution_count": 57,
   "metadata": {},
   "outputs": [
    {
     "data": {
      "text/plain": [
       "patient_id            False\n",
       "sex                   False\n",
       "age                   False\n",
       "country               False\n",
       "province              False\n",
       "city                  False\n",
       "infection_case        False\n",
       "infected_by           False\n",
       "contact_number        False\n",
       "symptom_onset_date    False\n",
       "confirmed_date        False\n",
       "released_date         False\n",
       "deceased_date         False\n",
       "state                 False\n",
       "dtype: bool"
      ]
     },
     "execution_count": 57,
     "metadata": {},
     "output_type": "execute_result"
    }
   ],
   "source": [
    "patient_info_df.isna().any()"
   ]
  },
  {
   "cell_type": "code",
   "execution_count": 59,
   "metadata": {},
   "outputs": [],
   "source": [
    "FILE_PATH = 'PatientInfo.csv'\n",
    "topic = \"topic_patientinfo\"\n",
    "schema_id = 100006\n",
    "cols = list(pd.read_csv(FILE_PATH).columns)"
   ]
  },
  {
   "cell_type": "code",
   "execution_count": null,
   "metadata": {},
   "outputs": [],
   "source": [
    "%%capture output\n",
    "streamingToKafka(FILE_PATH, topic, schema_id, cols)"
   ]
  },
  {
   "cell_type": "code",
   "execution_count": 81,
   "metadata": {},
   "outputs": [
    {
     "name": "stdout",
     "output_type": "stream",
     "text": [
      "test\n"
     ]
    }
   ],
   "source": [
    "print('test')"
   ]
  },
  {
   "attachments": {},
   "cell_type": "markdown",
   "metadata": {},
   "source": [
    "## Policy CSV file"
   ]
  },
  {
   "cell_type": "code",
   "execution_count": 6,
   "metadata": {},
   "outputs": [],
   "source": [
    "policy_df = pd.read_csv('Policy.csv')\n",
    "policy_df_schema = build_table_schema(policy_df, index=False, version=False)['fields']"
   ]
  },
  {
   "cell_type": "code",
   "execution_count": 7,
   "metadata": {},
   "outputs": [
    {
     "data": {
      "text/plain": [
       "[{'type': 'integer', 'description': 'policy_id'},\n",
       " {'type': 'string', 'description': 'country'},\n",
       " {'type': 'string', 'description': 'type'},\n",
       " {'type': 'string', 'description': 'gov_policy'},\n",
       " {'type': 'string', 'description': 'detail'},\n",
       " {'type': 'string', 'description': 'start_date'},\n",
       " {'type': 'string', 'description': 'end_date'}]"
      ]
     },
     "execution_count": 7,
     "metadata": {},
     "output_type": "execute_result"
    }
   ],
   "source": [
    "#renaming the dictionary key from name to description\n",
    "# to match the kafka schema string\n",
    "for value in policy_df_schema:\n",
    "    value['description'] = value.pop('name')\n",
    "\n",
    "policy_df_schema"
   ]
  },
  {
   "cell_type": "code",
   "execution_count": 10,
   "metadata": {},
   "outputs": [],
   "source": [
    "policy_df_final_schema = kafka_basic_schema.copy()\n",
    "policy_df_final_schema['properties'] = {}\n",
    "for value in policy_df_schema:\n",
    "    name = value['description']\n",
    "    value.pop('description')\n",
    "    policy_df_final_schema['properties'][name] = value"
   ]
  },
  {
   "cell_type": "code",
   "execution_count": 11,
   "metadata": {},
   "outputs": [
    {
     "name": "stdout",
     "output_type": "stream",
     "text": [
      "{\"$id\": \"http://example.com/myURI.schema.json\", \"$schema\": \"http://json-schema.org/draft-07/schema#\", \"additionalProperties\": false, \"description\": \"Sample schema to help you get started.\", \"title\": \"SampleRecord\", \"type\": \"object\", \"properties\": {\"policy_id\": {\"type\": \"integer\"}, \"country\": {\"type\": \"string\"}, \"type\": {\"type\": \"string\"}, \"gov_policy\": {\"type\": \"string\"}, \"detail\": {\"type\": \"string\"}, \"start_date\": {\"type\": \"string\"}, \"end_date\": {\"type\": \"string\"}}}\n"
     ]
    }
   ],
   "source": [
    "print(json.dumps(policy_df_final_schema))"
   ]
  },
  {
   "cell_type": "code",
   "execution_count": 12,
   "metadata": {},
   "outputs": [
    {
     "data": {
      "text/plain": [
       "policy_id     False\n",
       "country       False\n",
       "type          False\n",
       "gov_policy    False\n",
       "detail         True\n",
       "start_date    False\n",
       "end_date       True\n",
       "dtype: bool"
      ]
     },
     "execution_count": 12,
     "metadata": {},
     "output_type": "execute_result"
    }
   ],
   "source": [
    "policy_df.isna().any()"
   ]
  },
  {
   "cell_type": "code",
   "execution_count": 13,
   "metadata": {},
   "outputs": [],
   "source": [
    "FILE_PATH = 'Policy.csv'\n",
    "topic = \"topic_policy\"\n",
    "schema_id = 100008\n",
    "cols = list(pd.read_csv(FILE_PATH).columns)"
   ]
  },
  {
   "cell_type": "code",
   "execution_count": 22,
   "metadata": {},
   "outputs": [
    {
     "name": "stdout",
     "output_type": "stream",
     "text": [
      "Producing user records to topic topic_policy. ^C to exit.\n",
      "{'policy_id': 1, 'country': 'Korea', 'type': 'Alert', 'gov_policy': 'Infectious Disease Alert Level', 'detail': 'Level 1 (Blue)', 'start_date': '2020-01-03', 'end_date': '2020-01-19'}\n",
      "{'policy_id': 2, 'country': 'Korea', 'type': 'Alert', 'gov_policy': 'Infectious Disease Alert Level', 'detail': 'Level 2 (Yellow)', 'start_date': '2020-01-20', 'end_date': '2020-01-27'}\n",
      "{'policy_id': 3, 'country': 'Korea', 'type': 'Alert', 'gov_policy': 'Infectious Disease Alert Level', 'detail': 'Level 3 (Orange)', 'start_date': '2020-01-28', 'end_date': '2020-02-22'}\n",
      "{'policy_id': 4, 'country': 'Korea', 'type': 'Alert', 'gov_policy': 'Infectious Disease Alert Level', 'detail': 'Level 4 (Red)', 'start_date': '2020-02-23', 'end_date': '*miss*'}\n",
      "{'policy_id': 5, 'country': 'Korea', 'type': 'Immigration', 'gov_policy': 'Special Immigration Procedure', 'detail': 'from China', 'start_date': '2020-02-04', 'end_date': '*miss*'}\n",
      "{'policy_id': 6, 'country': 'Korea', 'type': 'Immigration', 'gov_policy': 'Special Immigration Procedure', 'detail': 'from Hong Kong', 'start_date': '2020-02-12', 'end_date': '*miss*'}\n",
      "{'policy_id': 7, 'country': 'Korea', 'type': 'Immigration', 'gov_policy': 'Special Immigration Procedure', 'detail': 'from Macau', 'start_date': '2020-02-12', 'end_date': '*miss*'}\n",
      "{'policy_id': 8, 'country': 'Korea', 'type': 'Immigration', 'gov_policy': 'Special Immigration Procedure', 'detail': 'from Japan', 'start_date': '2020-03-09', 'end_date': '*miss*'}\n",
      "{'policy_id': 9, 'country': 'Korea', 'type': 'Immigration', 'gov_policy': 'Special Immigration Procedure', 'detail': 'from Italy', 'start_date': '2020-03-12', 'end_date': '*miss*'}\n",
      "{'policy_id': 10, 'country': 'Korea', 'type': 'Immigration', 'gov_policy': 'Special Immigration Procedure', 'detail': 'from Iran', 'start_date': '2020-03-12', 'end_date': '*miss*'}\n",
      "{'policy_id': 11, 'country': 'Korea', 'type': 'Immigration', 'gov_policy': 'Special Immigration Procedure', 'detail': 'from France', 'start_date': '2020-03-15', 'end_date': '*miss*'}\n",
      "{'policy_id': 12, 'country': 'Korea', 'type': 'Immigration', 'gov_policy': 'Special Immigration Procedure', 'detail': 'from Germany', 'start_date': '2020-03-15', 'end_date': '*miss*'}\n",
      "{'policy_id': 13, 'country': 'Korea', 'type': 'Immigration', 'gov_policy': 'Special Immigration Procedure', 'detail': 'from Spain', 'start_date': '2020-03-15', 'end_date': '*miss*'}\n",
      "{'policy_id': 14, 'country': 'Korea', 'type': 'Immigration', 'gov_policy': 'Special Immigration Procedure', 'detail': 'from U.K.', 'start_date': '2020-03-15', 'end_date': '*miss*'}\n",
      "{'policy_id': 15, 'country': 'Korea', 'type': 'Immigration', 'gov_policy': 'Special Immigration Procedure', 'detail': 'from Netherlands', 'start_date': '2020-03-15', 'end_date': '*miss*'}\n",
      "{'policy_id': 16, 'country': 'Korea', 'type': 'Immigration', 'gov_policy': 'Special Immigration Procedure', 'detail': 'from Europe', 'start_date': '2020-03-16', 'end_date': '*miss*'}\n",
      "{'policy_id': 17, 'country': 'Korea', 'type': 'Immigration', 'gov_policy': 'Special Immigration Procedure', 'detail': 'from all the countries', 'start_date': '2020-03-19', 'end_date': '*miss*'}\n",
      "{'policy_id': 18, 'country': 'Korea', 'type': 'Immigration', 'gov_policy': 'Mandatory 14-day Self-Quarantine', 'detail': 'from all the countries', 'start_date': '2020-04-01', 'end_date': '*miss*'}\n",
      "{'policy_id': 19, 'country': 'Korea', 'type': 'Immigration', 'gov_policy': 'Mandatory Self-Quarantine & Diagonostic Tests', 'detail': 'from U.S.', 'start_date': '2020-04-13', 'end_date': '*miss*'}\n",
      "{'policy_id': 20, 'country': 'Korea', 'type': 'Health', 'gov_policy': 'Emergency Use Authorization of Diagnostic Kit', 'detail': '1st EUA', 'start_date': '2020-02-04', 'end_date': '*miss*'}\n",
      "{'policy_id': 21, 'country': 'Korea', 'type': 'Health', 'gov_policy': 'Emergency Use Authorization of Diagnostic Kit', 'detail': '2nd EUA', 'start_date': '2020-02-12', 'end_date': '*miss*'}\n",
      "{'policy_id': 22, 'country': 'Korea', 'type': 'Health', 'gov_policy': 'Emergency Use Authorization of Diagnostic Kit', 'detail': '3rd EUA', 'start_date': '2020-02-27', 'end_date': '*miss*'}\n",
      "{'policy_id': 23, 'country': 'Korea', 'type': 'Health', 'gov_policy': 'Emergency Use Authorization of Diagnostic Kit', 'detail': '4th EUA', 'start_date': '2020-02-27', 'end_date': '*miss*'}\n",
      "{'policy_id': 24, 'country': 'Korea', 'type': 'Health', 'gov_policy': 'Emergency Use Authorization of Diagnostic Kit', 'detail': '5th EUA', 'start_date': '2020-03-13', 'end_date': '*miss*'}\n",
      "{'policy_id': 25, 'country': 'Korea', 'type': 'Health', 'gov_policy': 'Drive-Through Screening Center', 'detail': 'by Local Government', 'start_date': '2020-02-26', 'end_date': '*miss*'}\n",
      "{'policy_id': 26, 'country': 'Korea', 'type': 'Health', 'gov_policy': 'Drive-Through Screening Center', 'detail': 'Standard Operating Procedures', 'start_date': '2020-03-04', 'end_date': '*miss*'}\n",
      "{'policy_id': 27, 'country': 'Korea', 'type': 'Health', 'gov_policy': 'Mask Distribution', 'detail': 'Public-Sale', 'start_date': '2020-02-27', 'end_date': '*miss*'}\n",
      "{'policy_id': 28, 'country': 'Korea', 'type': 'Health', 'gov_policy': 'Mask Distribution', 'detail': '5-day Rotation System', 'start_date': '2020-03-09', 'end_date': '*miss*'}\n",
      "{'policy_id': 29, 'country': 'Korea', 'type': 'Social', 'gov_policy': 'Social Distancing Campaign', 'detail': 'Strong', 'start_date': '2020-02-29', 'end_date': '2020-03-21'}\n",
      "{'policy_id': 30, 'country': 'Korea', 'type': 'Social', 'gov_policy': 'Social Distancing Campaign', 'detail': 'Strong', 'start_date': '2020-03-22', 'end_date': '2020-04-19'}\n",
      "{'policy_id': 31, 'country': 'Korea', 'type': 'Social', 'gov_policy': 'Social Distancing Campaign', 'detail': 'Weak', 'start_date': '2020-04-20', 'end_date': '2020-05-05'}\n",
      "{'policy_id': 32, 'country': 'Korea', 'type': 'Social', 'gov_policy': 'Social Distancing Campaign', 'detail': 'Weak(1st)', 'start_date': '2020-05-06', 'end_date': '*miss*'}\n",
      "{'policy_id': 33, 'country': 'Korea', 'type': 'Social', 'gov_policy': 'Thanks to Challenge korea', 'detail': 'Relay Cheer Campaign in SNS', 'start_date': '2020-04-16', 'end_date': '*miss*'}\n",
      "{'policy_id': 34, 'country': 'Korea', 'type': 'Education', 'gov_policy': 'School Closure', 'detail': 'Daycare Center for Children', 'start_date': '2020-03-02', 'end_date': '*miss*'}\n",
      "{'policy_id': 35, 'country': 'Korea', 'type': 'Education', 'gov_policy': 'School Opening Delay', 'detail': 'Kindergarten', 'start_date': '2020-03-02', 'end_date': '2020-04-06'}\n",
      "{'policy_id': 36, 'country': 'Korea', 'type': 'Education', 'gov_policy': 'School Opening Delay', 'detail': 'High School', 'start_date': '2020-03-02', 'end_date': '2020-04-06'}\n",
      "{'policy_id': 37, 'country': 'Korea', 'type': 'Education', 'gov_policy': 'School Opening Delay', 'detail': 'Middle School', 'start_date': '2020-03-02', 'end_date': '2020-04-06'}\n",
      "{'policy_id': 38, 'country': 'Korea', 'type': 'Education', 'gov_policy': 'School Opening Delay', 'detail': 'Elementary School', 'start_date': '2020-03-02', 'end_date': '2020-04-06'}\n",
      "{'policy_id': 39, 'country': 'Korea', 'type': 'Education', 'gov_policy': 'School Opening with Online Class', 'detail': 'High School (3rd grade)', 'start_date': '2020-04-09', 'end_date': '2020-05-20'}\n",
      "{'policy_id': 40, 'country': 'Korea', 'type': 'Education', 'gov_policy': 'School Opening with Online Class', 'detail': 'High School (2nd grade)', 'start_date': '2020-04-16', 'end_date': '2020-05-27'}\n",
      "{'policy_id': 41, 'country': 'Korea', 'type': 'Education', 'gov_policy': 'School Opening with Online Class', 'detail': 'High School (1st grade)', 'start_date': '2020-04-16', 'end_date': '2020-06-03'}\n",
      "{'policy_id': 42, 'country': 'Korea', 'type': 'Education', 'gov_policy': 'School Opening with Online Class', 'detail': 'Middle School (3rd grade)', 'start_date': '2020-04-09', 'end_date': '2020-05-27'}\n",
      "{'policy_id': 43, 'country': 'Korea', 'type': 'Education', 'gov_policy': 'School Opening with Online Class', 'detail': 'Middle School (2nd grade)', 'start_date': '2020-04-16', 'end_date': '2020-06-03'}\n",
      "{'policy_id': 44, 'country': 'Korea', 'type': 'Education', 'gov_policy': 'School Opening with Online Class', 'detail': 'Middle School (1st grade)', 'start_date': '2020-04-16', 'end_date': '2020-06-08'}\n",
      "{'policy_id': 45, 'country': 'Korea', 'type': 'Education', 'gov_policy': 'School Opening with Online Class', 'detail': 'Elementary School (5th ~ 6th grade)', 'start_date': '2020-04-16', 'end_date': '2020-06-08'}\n",
      "{'policy_id': 46, 'country': 'Korea', 'type': 'Education', 'gov_policy': 'School Opening with Online Class', 'detail': 'Elementary School (4th grade)', 'start_date': '2020-04-16', 'end_date': '2020-06-03'}\n",
      "{'policy_id': 47, 'country': 'Korea', 'type': 'Education', 'gov_policy': 'School Opening with Online Class', 'detail': 'Elementary School (3rd grade)', 'start_date': '2020-04-20', 'end_date': '2020-06-03'}\n",
      "{'policy_id': 48, 'country': 'Korea', 'type': 'Education', 'gov_policy': 'School Opening with Online Class', 'detail': 'Elementary School (1st ~ 2nd grade)', 'start_date': '2020-04-20', 'end_date': '2020-05-27'}\n",
      "{'policy_id': 49, 'country': 'Korea', 'type': 'Technology', 'gov_policy': 'Open Data ', 'detail': 'Patients Information', 'start_date': '2020-01-20', 'end_date': '*miss*'}\n",
      "{'policy_id': 50, 'country': 'Korea', 'type': 'Technology', 'gov_policy': 'Open API', 'detail': 'Public Mask Sales Information', 'start_date': '2020-03-08', 'end_date': '*miss*'}\n",
      "{'policy_id': 51, 'country': 'Korea', 'type': 'Technology', 'gov_policy': 'Self-Diagnosis App', 'detail': '*miss*', 'start_date': '2020-02-12', 'end_date': '*miss*'}\n",
      "{'policy_id': 52, 'country': 'Korea', 'type': 'Technology', 'gov_policy': 'Self-Quarantine Safety Protection App', 'detail': '*miss*', 'start_date': '2020-03-07', 'end_date': '*miss*'}\n",
      "{'policy_id': 53, 'country': 'Korea', 'type': 'Technology', 'gov_policy': 'Electronic Wristbands', 'detail': 'on people who violate self-quarantine measures', 'start_date': '2020-04-27', 'end_date': '*miss*'}\n",
      "{'policy_id': 54, 'country': 'Korea', 'type': 'Administrative', 'gov_policy': 'Close bars and clubs', 'detail': 'administrative order to close bars and clubs', 'start_date': '2020-05-08', 'end_date': '2020-06-07'}\n",
      "{'policy_id': 55, 'country': 'Korea', 'type': 'Administrative', 'gov_policy': 'local government Administrative orders', 'detail': 'Gathering limited administrative orders for nursing homes, nursing homes, elderly day care centers and mental hospitals used by vulnerable groups', 'start_date': '2020-05-16', 'end_date': '*miss*'}\n",
      "{'policy_id': 56, 'country': 'Korea', 'type': 'Administrative', 'gov_policy': 'Close karaoke', 'detail': 'Ban on gathering for 2 weeks for all karaoke and coin karaoke', 'start_date': '2020-05-21', 'end_date': '2020-06-03'}\n",
      "{'policy_id': 57, 'country': 'Korea', 'type': 'Transformation', 'gov_policy': 'Logistics center', 'detail': 'On-site inspection of major logistics facilities such as courier terminals and warehouses', 'start_date': '2020-05-29', 'end_date': '2020-06-11'}\n",
      "{'policy_id': 58, 'country': 'Korea', 'type': 'Transformation', 'gov_policy': 'Wearing of masks', 'detail': 'Mandatory wearing of passenger mask domestic, international teminal in the airport', 'start_date': '2020-05-27', 'end_date': '*miss*'}\n",
      "{'policy_id': 59, 'country': 'Korea', 'type': 'Transformation', 'gov_policy': 'Wearing of masks', 'detail': 'Drivers such as buses and taxis can refuse to ride passengers without masks', 'start_date': '2020-05-26', 'end_date': '*miss*'}\n",
      "{'policy_id': 60, 'country': 'Korea', 'type': 'Technology', 'gov_policy': 'KI-Pass: Korea Internet - Pass', 'detail': 'new quick response (QR) code system this week to log visitors at high-risk entertainment facilities, restaurants and churches in a bid to track coronavirus cases and prevent further spread of the disease', 'start_date': '2020-06-10', 'end_date': '*miss*'}\n",
      "{'policy_id': 61, 'country': 'Korea', 'type': 'Health', 'gov_policy': 'Extends Tightened Quarantine Measures ', 'detail': \"Gov't Extends Tightened Quarantine Measures in Seoul Metro Area\", 'start_date': '2020-05-28', 'end_date': '2020-06-14'}\n",
      "\n",
      "Flushing records...\n",
      "User record b'2e60f7ae-2418-4b32-8982-a2f2d55fb233' successfully produced to topic_policy [4] at offset 1\n",
      "User record b'c043b1aa-4abd-4840-9585-c39af118062f' successfully produced to topic_policy [4] at offset 2\n",
      "User record b'b03cc198-64ca-4f29-a930-a04b1aec0025' successfully produced to topic_policy [4] at offset 3\n",
      "User record b'1b6afb91-8eff-4099-a174-19aac60b3401' successfully produced to topic_policy [4] at offset 4\n",
      "User record b'c05f9731-2cd3-4a9c-8fe0-0c475f3f4f24' successfully produced to topic_policy [4] at offset 5\n",
      "User record b'4b8cdb87-3087-48f8-8665-926e886123e7' successfully produced to topic_policy [4] at offset 6\n",
      "User record b'85d3321d-4815-4083-bea8-22c6f0479a15' successfully produced to topic_policy [4] at offset 7\n",
      "User record b'511be1e1-caf7-48d9-89f6-f9d0c6b04493' successfully produced to topic_policy [4] at offset 8\n",
      "User record b'5ff003a6-1a27-4172-aced-03c2a4b77d62' successfully produced to topic_policy [2] at offset 1\n",
      "User record b'8a41d4b9-5c68-4b0a-addc-b6f78d8553d3' successfully produced to topic_policy [2] at offset 2\n",
      "User record b'50de396d-edcb-4929-8f5f-baeed6cd26bc' successfully produced to topic_policy [2] at offset 3\n",
      "User record b'81c09610-09a8-4466-b0c1-9a4df49deb23' successfully produced to topic_policy [2] at offset 4\n",
      "User record b'cca3c690-a44e-4f19-92f0-00c8dc98ddf8' successfully produced to topic_policy [2] at offset 5\n",
      "User record b'6022f857-98e3-4478-8520-12ef0a7a8243' successfully produced to topic_policy [2] at offset 6\n",
      "User record b'f0b42722-fbeb-4eb3-9476-1e275dd8a2dc' successfully produced to topic_policy [2] at offset 7\n",
      "User record b'5da44327-1d6b-42e7-8a47-4127611d8a64' successfully produced to topic_policy [2] at offset 8\n",
      "User record b'00dede11-ba0d-4e04-ac54-c7aa60a67c18' successfully produced to topic_policy [2] at offset 9\n",
      "User record b'0e9c14e2-460e-430c-b660-6fface89deb1' successfully produced to topic_policy [2] at offset 10\n",
      "User record b'5b66d46e-973f-411e-ae13-9ff166a501b5' successfully produced to topic_policy [2] at offset 11\n",
      "User record b'98fa5f01-7506-4abb-bb83-c523da7c35c1' successfully produced to topic_policy [2] at offset 12\n",
      "User record b'491495cd-4f87-4cc5-8318-975fc40055b4' successfully produced to topic_policy [0] at offset 2\n",
      "User record b'9fde43c5-ebd5-4248-86d2-ee7d55f78391' successfully produced to topic_policy [0] at offset 3\n",
      "User record b'd62adafe-f0ee-4ec8-a742-5b7d8cedbe8a' successfully produced to topic_policy [0] at offset 4\n",
      "User record b'55c3957b-43f3-493c-a818-23bcadc9910e' successfully produced to topic_policy [0] at offset 5\n",
      "User record b'8d991357-c379-410a-89c3-ac4ac70cfd19' successfully produced to topic_policy [0] at offset 6\n",
      "User record b'7aa93045-dbea-410d-92b8-922a8594879e' successfully produced to topic_policy [0] at offset 7\n",
      "User record b'bc746b6a-eed8-437a-8914-7a30adb5912a' successfully produced to topic_policy [0] at offset 8\n",
      "User record b'86ae96f7-db2d-4f43-86a6-fb229e04470e' successfully produced to topic_policy [0] at offset 9\n",
      "User record b'fc2706a4-4b77-4406-8cde-0754a4193834' successfully produced to topic_policy [0] at offset 10\n",
      "User record b'58046725-6028-466c-b8a9-d30ab639c884' successfully produced to topic_policy [0] at offset 11\n",
      "User record b'1740dab0-0c84-4976-8ef2-9d1a6050704f' successfully produced to topic_policy [0] at offset 12\n",
      "User record b'206d0217-83fe-4121-adb5-93198b521c29' successfully produced to topic_policy [0] at offset 13\n",
      "User record b'd5f8e1df-057b-458f-8dbe-091d2a572ad9' successfully produced to topic_policy [0] at offset 14\n",
      "User record b'32ba943b-c4af-46b6-899b-9a9aa3f2a2cf' successfully produced to topic_policy [3] at offset 0\n",
      "User record b'ca2cdb33-433c-474a-9608-51308e45f094' successfully produced to topic_policy [3] at offset 1\n",
      "User record b'a58c6a0b-4055-4778-ad50-a4ef35075e44' successfully produced to topic_policy [3] at offset 2\n",
      "User record b'90e5c6df-f31a-4d7d-9d35-f9ccb05dce98' successfully produced to topic_policy [3] at offset 3\n",
      "User record b'a3d57e2a-270d-45f9-be13-b187531bbec2' successfully produced to topic_policy [3] at offset 4\n",
      "User record b'f4a2eb31-f81c-468a-8220-c083a9869119' successfully produced to topic_policy [3] at offset 5\n",
      "User record b'fb06069d-c8cf-4d0f-a479-2e0a5c4f0052' successfully produced to topic_policy [3] at offset 6\n",
      "User record b'be85bd30-2821-4260-bd12-ee300212422e' successfully produced to topic_policy [3] at offset 7\n",
      "User record b'23d35b68-0c34-4fc5-bb5d-3b8c67017cfa' successfully produced to topic_policy [3] at offset 8\n",
      "User record b'03a40ebd-bf8e-45f5-8bfc-1e5e3f9b3535' successfully produced to topic_policy [5] at offset 0\n",
      "User record b'cd25bd79-86a7-4eb1-bc54-81efa401d66e' successfully produced to topic_policy [5] at offset 1\n",
      "User record b'54703606-5889-43e9-b81f-db4d1af3dacb' successfully produced to topic_policy [5] at offset 2\n",
      "User record b'51ed9e7a-3551-4083-b573-067d80bac97a' successfully produced to topic_policy [5] at offset 3\n",
      "User record b'7cb75961-4fa0-41f9-9f69-aa6dd7e03554' successfully produced to topic_policy [5] at offset 4\n",
      "User record b'3eb2b08d-c127-4cc9-a0d5-78ce2cd17b60' successfully produced to topic_policy [5] at offset 5\n",
      "User record b'324e13cb-c74b-4355-b032-f8bc774860ef' successfully produced to topic_policy [5] at offset 6\n",
      "User record b'0ae69ef6-67c4-49da-81bb-5148cf83f0df' successfully produced to topic_policy [5] at offset 7\n",
      "User record b'8810912f-9f9c-4424-b05a-58477f44116b' successfully produced to topic_policy [5] at offset 8\n",
      "User record b'c7096eeb-d962-45b6-8d2d-3881101d11af' successfully produced to topic_policy [5] at offset 9\n",
      "User record b'b206b298-20f4-490c-bc4d-7be02d84beff' successfully produced to topic_policy [1] at offset 2\n",
      "User record b'cbe6d0ea-cda9-44d3-89d4-fa7a6ce68191' successfully produced to topic_policy [1] at offset 3\n",
      "User record b'2b4862e3-7a40-42a2-a6ce-33b15a250155' successfully produced to topic_policy [1] at offset 4\n",
      "User record b'1be4ef5e-6675-4b76-bb1d-1c87df14e85b' successfully produced to topic_policy [1] at offset 5\n",
      "User record b'101f11be-9ee2-4522-9c93-280783949283' successfully produced to topic_policy [1] at offset 6\n",
      "User record b'b00363c4-5de7-423b-a6b2-2c1d7af073f2' successfully produced to topic_policy [1] at offset 7\n",
      "User record b'6d7a6ef2-23f3-4400-a14a-5c05b021d752' successfully produced to topic_policy [1] at offset 8\n",
      "User record b'b8700d16-6c54-4514-a7e9-74c129a95ebf' successfully produced to topic_policy [1] at offset 9\n",
      "User record b'7dca11e9-b8c8-40ad-811f-d1399a9d0f03' successfully produced to topic_policy [1] at offset 10\n"
     ]
    }
   ],
   "source": [
    "#%%capture output\n",
    "processing_col_count = 1000000\n",
    "streamingToKafka(FILE_PATH, topic, schema_id, cols,processing_col_count)"
   ]
  },
  {
   "attachments": {},
   "cell_type": "markdown",
   "metadata": {},
   "source": [
    "## Policy CSV file"
   ]
  },
  {
   "cell_type": "code",
   "execution_count": null,
   "metadata": {},
   "outputs": [],
   "source": [
    "policy_df = pd.read_csv('Policy.csv')\n",
    "policy_df_schema = build_table_schema(policy_df, index=False, version=False)['fields']"
   ]
  },
  {
   "cell_type": "code",
   "execution_count": null,
   "metadata": {},
   "outputs": [
    {
     "data": {
      "text/plain": [
       "[{'type': 'integer', 'description': 'policy_id'},\n",
       " {'type': 'string', 'description': 'country'},\n",
       " {'type': 'string', 'description': 'type'},\n",
       " {'type': 'string', 'description': 'gov_policy'},\n",
       " {'type': 'string', 'description': 'detail'},\n",
       " {'type': 'string', 'description': 'start_date'},\n",
       " {'type': 'string', 'description': 'end_date'}]"
      ]
     },
     "metadata": {},
     "output_type": "display_data"
    }
   ],
   "source": [
    "#renaming the dictionary key from name to description\n",
    "# to match the kafka schema string\n",
    "for value in policy_df_schema:\n",
    "    value['description'] = value.pop('name')\n",
    "\n",
    "policy_df_schema"
   ]
  },
  {
   "cell_type": "code",
   "execution_count": null,
   "metadata": {},
   "outputs": [],
   "source": [
    "policy_df_final_schema = kafka_basic_schema.copy()\n",
    "policy_df_final_schema['properties'] = {}\n",
    "for value in policy_df_schema:\n",
    "    name = value['description']\n",
    "    value.pop('description')\n",
    "    policy_df_final_schema['properties'][name] = value"
   ]
  },
  {
   "cell_type": "code",
   "execution_count": null,
   "metadata": {},
   "outputs": [
    {
     "name": "stdout",
     "output_type": "stream",
     "text": [
      "{\"$id\": \"http://example.com/myURI.schema.json\", \"$schema\": \"http://json-schema.org/draft-07/schema#\", \"additionalProperties\": false, \"description\": \"Sample schema to help you get started.\", \"title\": \"SampleRecord\", \"type\": \"object\", \"properties\": {\"policy_id\": {\"type\": \"integer\"}, \"country\": {\"type\": \"string\"}, \"type\": {\"type\": \"string\"}, \"gov_policy\": {\"type\": \"string\"}, \"detail\": {\"type\": \"string\"}, \"start_date\": {\"type\": \"string\"}, \"end_date\": {\"type\": \"string\"}}}\n"
     ]
    }
   ],
   "source": [
    "print(json.dumps(policy_df_final_schema))"
   ]
  },
  {
   "cell_type": "code",
   "execution_count": null,
   "metadata": {},
   "outputs": [
    {
     "data": {
      "text/plain": [
       "policy_id     False\n",
       "country       False\n",
       "type          False\n",
       "gov_policy    False\n",
       "detail         True\n",
       "start_date    False\n",
       "end_date       True\n",
       "dtype: bool"
      ]
     },
     "metadata": {},
     "output_type": "display_data"
    }
   ],
   "source": [
    "policy_df.isna().any()"
   ]
  },
  {
   "cell_type": "code",
   "execution_count": null,
   "metadata": {},
   "outputs": [],
   "source": [
    "FILE_PATH = 'Policy.csv'\n",
    "topic = \"topic_policy\"\n",
    "schema_id = 100008\n",
    "cols = list(pd.read_csv(FILE_PATH).columns)"
   ]
  },
  {
   "cell_type": "code",
   "execution_count": null,
   "metadata": {},
   "outputs": [
    {
     "name": "stdout",
     "output_type": "stream",
     "text": [
      "Producing user records to topic topic_policy. ^C to exit.\n",
      "{'policy_id': 1, 'country': 'Korea', 'type': 'Alert', 'gov_policy': 'Infectious Disease Alert Level', 'detail': 'Level 1 (Blue)', 'start_date': '2020-01-03', 'end_date': '2020-01-19'}\n",
      "{'policy_id': 2, 'country': 'Korea', 'type': 'Alert', 'gov_policy': 'Infectious Disease Alert Level', 'detail': 'Level 2 (Yellow)', 'start_date': '2020-01-20', 'end_date': '2020-01-27'}\n",
      "{'policy_id': 3, 'country': 'Korea', 'type': 'Alert', 'gov_policy': 'Infectious Disease Alert Level', 'detail': 'Level 3 (Orange)', 'start_date': '2020-01-28', 'end_date': '2020-02-22'}\n",
      "{'policy_id': 4, 'country': 'Korea', 'type': 'Alert', 'gov_policy': 'Infectious Disease Alert Level', 'detail': 'Level 4 (Red)', 'start_date': '2020-02-23', 'end_date': '*miss*'}\n",
      "{'policy_id': 5, 'country': 'Korea', 'type': 'Immigration', 'gov_policy': 'Special Immigration Procedure', 'detail': 'from China', 'start_date': '2020-02-04', 'end_date': '*miss*'}\n",
      "{'policy_id': 6, 'country': 'Korea', 'type': 'Immigration', 'gov_policy': 'Special Immigration Procedure', 'detail': 'from Hong Kong', 'start_date': '2020-02-12', 'end_date': '*miss*'}\n",
      "{'policy_id': 7, 'country': 'Korea', 'type': 'Immigration', 'gov_policy': 'Special Immigration Procedure', 'detail': 'from Macau', 'start_date': '2020-02-12', 'end_date': '*miss*'}\n",
      "{'policy_id': 8, 'country': 'Korea', 'type': 'Immigration', 'gov_policy': 'Special Immigration Procedure', 'detail': 'from Japan', 'start_date': '2020-03-09', 'end_date': '*miss*'}\n",
      "{'policy_id': 9, 'country': 'Korea', 'type': 'Immigration', 'gov_policy': 'Special Immigration Procedure', 'detail': 'from Italy', 'start_date': '2020-03-12', 'end_date': '*miss*'}\n",
      "{'policy_id': 10, 'country': 'Korea', 'type': 'Immigration', 'gov_policy': 'Special Immigration Procedure', 'detail': 'from Iran', 'start_date': '2020-03-12', 'end_date': '*miss*'}\n",
      "{'policy_id': 11, 'country': 'Korea', 'type': 'Immigration', 'gov_policy': 'Special Immigration Procedure', 'detail': 'from France', 'start_date': '2020-03-15', 'end_date': '*miss*'}\n",
      "{'policy_id': 12, 'country': 'Korea', 'type': 'Immigration', 'gov_policy': 'Special Immigration Procedure', 'detail': 'from Germany', 'start_date': '2020-03-15', 'end_date': '*miss*'}\n",
      "{'policy_id': 13, 'country': 'Korea', 'type': 'Immigration', 'gov_policy': 'Special Immigration Procedure', 'detail': 'from Spain', 'start_date': '2020-03-15', 'end_date': '*miss*'}\n",
      "{'policy_id': 14, 'country': 'Korea', 'type': 'Immigration', 'gov_policy': 'Special Immigration Procedure', 'detail': 'from U.K.', 'start_date': '2020-03-15', 'end_date': '*miss*'}\n",
      "{'policy_id': 15, 'country': 'Korea', 'type': 'Immigration', 'gov_policy': 'Special Immigration Procedure', 'detail': 'from Netherlands', 'start_date': '2020-03-15', 'end_date': '*miss*'}\n",
      "{'policy_id': 16, 'country': 'Korea', 'type': 'Immigration', 'gov_policy': 'Special Immigration Procedure', 'detail': 'from Europe', 'start_date': '2020-03-16', 'end_date': '*miss*'}\n",
      "{'policy_id': 17, 'country': 'Korea', 'type': 'Immigration', 'gov_policy': 'Special Immigration Procedure', 'detail': 'from all the countries', 'start_date': '2020-03-19', 'end_date': '*miss*'}\n",
      "{'policy_id': 18, 'country': 'Korea', 'type': 'Immigration', 'gov_policy': 'Mandatory 14-day Self-Quarantine', 'detail': 'from all the countries', 'start_date': '2020-04-01', 'end_date': '*miss*'}\n",
      "{'policy_id': 19, 'country': 'Korea', 'type': 'Immigration', 'gov_policy': 'Mandatory Self-Quarantine & Diagonostic Tests', 'detail': 'from U.S.', 'start_date': '2020-04-13', 'end_date': '*miss*'}\n",
      "{'policy_id': 20, 'country': 'Korea', 'type': 'Health', 'gov_policy': 'Emergency Use Authorization of Diagnostic Kit', 'detail': '1st EUA', 'start_date': '2020-02-04', 'end_date': '*miss*'}\n",
      "{'policy_id': 21, 'country': 'Korea', 'type': 'Health', 'gov_policy': 'Emergency Use Authorization of Diagnostic Kit', 'detail': '2nd EUA', 'start_date': '2020-02-12', 'end_date': '*miss*'}\n",
      "{'policy_id': 22, 'country': 'Korea', 'type': 'Health', 'gov_policy': 'Emergency Use Authorization of Diagnostic Kit', 'detail': '3rd EUA', 'start_date': '2020-02-27', 'end_date': '*miss*'}\n",
      "{'policy_id': 23, 'country': 'Korea', 'type': 'Health', 'gov_policy': 'Emergency Use Authorization of Diagnostic Kit', 'detail': '4th EUA', 'start_date': '2020-02-27', 'end_date': '*miss*'}\n",
      "{'policy_id': 24, 'country': 'Korea', 'type': 'Health', 'gov_policy': 'Emergency Use Authorization of Diagnostic Kit', 'detail': '5th EUA', 'start_date': '2020-03-13', 'end_date': '*miss*'}\n",
      "{'policy_id': 25, 'country': 'Korea', 'type': 'Health', 'gov_policy': 'Drive-Through Screening Center', 'detail': 'by Local Government', 'start_date': '2020-02-26', 'end_date': '*miss*'}\n",
      "{'policy_id': 26, 'country': 'Korea', 'type': 'Health', 'gov_policy': 'Drive-Through Screening Center', 'detail': 'Standard Operating Procedures', 'start_date': '2020-03-04', 'end_date': '*miss*'}\n",
      "{'policy_id': 27, 'country': 'Korea', 'type': 'Health', 'gov_policy': 'Mask Distribution', 'detail': 'Public-Sale', 'start_date': '2020-02-27', 'end_date': '*miss*'}\n",
      "{'policy_id': 28, 'country': 'Korea', 'type': 'Health', 'gov_policy': 'Mask Distribution', 'detail': '5-day Rotation System', 'start_date': '2020-03-09', 'end_date': '*miss*'}\n",
      "{'policy_id': 29, 'country': 'Korea', 'type': 'Social', 'gov_policy': 'Social Distancing Campaign', 'detail': 'Strong', 'start_date': '2020-02-29', 'end_date': '2020-03-21'}\n",
      "{'policy_id': 30, 'country': 'Korea', 'type': 'Social', 'gov_policy': 'Social Distancing Campaign', 'detail': 'Strong', 'start_date': '2020-03-22', 'end_date': '2020-04-19'}\n",
      "{'policy_id': 31, 'country': 'Korea', 'type': 'Social', 'gov_policy': 'Social Distancing Campaign', 'detail': 'Weak', 'start_date': '2020-04-20', 'end_date': '2020-05-05'}\n",
      "{'policy_id': 32, 'country': 'Korea', 'type': 'Social', 'gov_policy': 'Social Distancing Campaign', 'detail': 'Weak(1st)', 'start_date': '2020-05-06', 'end_date': '*miss*'}\n",
      "{'policy_id': 33, 'country': 'Korea', 'type': 'Social', 'gov_policy': 'Thanks to Challenge korea', 'detail': 'Relay Cheer Campaign in SNS', 'start_date': '2020-04-16', 'end_date': '*miss*'}\n",
      "{'policy_id': 34, 'country': 'Korea', 'type': 'Education', 'gov_policy': 'School Closure', 'detail': 'Daycare Center for Children', 'start_date': '2020-03-02', 'end_date': '*miss*'}\n",
      "{'policy_id': 35, 'country': 'Korea', 'type': 'Education', 'gov_policy': 'School Opening Delay', 'detail': 'Kindergarten', 'start_date': '2020-03-02', 'end_date': '2020-04-06'}\n",
      "{'policy_id': 36, 'country': 'Korea', 'type': 'Education', 'gov_policy': 'School Opening Delay', 'detail': 'High School', 'start_date': '2020-03-02', 'end_date': '2020-04-06'}\n",
      "{'policy_id': 37, 'country': 'Korea', 'type': 'Education', 'gov_policy': 'School Opening Delay', 'detail': 'Middle School', 'start_date': '2020-03-02', 'end_date': '2020-04-06'}\n",
      "{'policy_id': 38, 'country': 'Korea', 'type': 'Education', 'gov_policy': 'School Opening Delay', 'detail': 'Elementary School', 'start_date': '2020-03-02', 'end_date': '2020-04-06'}\n",
      "{'policy_id': 39, 'country': 'Korea', 'type': 'Education', 'gov_policy': 'School Opening with Online Class', 'detail': 'High School (3rd grade)', 'start_date': '2020-04-09', 'end_date': '2020-05-20'}\n",
      "{'policy_id': 40, 'country': 'Korea', 'type': 'Education', 'gov_policy': 'School Opening with Online Class', 'detail': 'High School (2nd grade)', 'start_date': '2020-04-16', 'end_date': '2020-05-27'}\n",
      "{'policy_id': 41, 'country': 'Korea', 'type': 'Education', 'gov_policy': 'School Opening with Online Class', 'detail': 'High School (1st grade)', 'start_date': '2020-04-16', 'end_date': '2020-06-03'}\n",
      "{'policy_id': 42, 'country': 'Korea', 'type': 'Education', 'gov_policy': 'School Opening with Online Class', 'detail': 'Middle School (3rd grade)', 'start_date': '2020-04-09', 'end_date': '2020-05-27'}\n",
      "{'policy_id': 43, 'country': 'Korea', 'type': 'Education', 'gov_policy': 'School Opening with Online Class', 'detail': 'Middle School (2nd grade)', 'start_date': '2020-04-16', 'end_date': '2020-06-03'}\n",
      "{'policy_id': 44, 'country': 'Korea', 'type': 'Education', 'gov_policy': 'School Opening with Online Class', 'detail': 'Middle School (1st grade)', 'start_date': '2020-04-16', 'end_date': '2020-06-08'}\n",
      "{'policy_id': 45, 'country': 'Korea', 'type': 'Education', 'gov_policy': 'School Opening with Online Class', 'detail': 'Elementary School (5th ~ 6th grade)', 'start_date': '2020-04-16', 'end_date': '2020-06-08'}\n",
      "{'policy_id': 46, 'country': 'Korea', 'type': 'Education', 'gov_policy': 'School Opening with Online Class', 'detail': 'Elementary School (4th grade)', 'start_date': '2020-04-16', 'end_date': '2020-06-03'}\n",
      "{'policy_id': 47, 'country': 'Korea', 'type': 'Education', 'gov_policy': 'School Opening with Online Class', 'detail': 'Elementary School (3rd grade)', 'start_date': '2020-04-20', 'end_date': '2020-06-03'}\n",
      "{'policy_id': 48, 'country': 'Korea', 'type': 'Education', 'gov_policy': 'School Opening with Online Class', 'detail': 'Elementary School (1st ~ 2nd grade)', 'start_date': '2020-04-20', 'end_date': '2020-05-27'}\n",
      "{'policy_id': 49, 'country': 'Korea', 'type': 'Technology', 'gov_policy': 'Open Data ', 'detail': 'Patients Information', 'start_date': '2020-01-20', 'end_date': '*miss*'}\n",
      "{'policy_id': 50, 'country': 'Korea', 'type': 'Technology', 'gov_policy': 'Open API', 'detail': 'Public Mask Sales Information', 'start_date': '2020-03-08', 'end_date': '*miss*'}\n",
      "{'policy_id': 51, 'country': 'Korea', 'type': 'Technology', 'gov_policy': 'Self-Diagnosis App', 'detail': '*miss*', 'start_date': '2020-02-12', 'end_date': '*miss*'}\n",
      "{'policy_id': 52, 'country': 'Korea', 'type': 'Technology', 'gov_policy': 'Self-Quarantine Safety Protection App', 'detail': '*miss*', 'start_date': '2020-03-07', 'end_date': '*miss*'}\n",
      "{'policy_id': 53, 'country': 'Korea', 'type': 'Technology', 'gov_policy': 'Electronic Wristbands', 'detail': 'on people who violate self-quarantine measures', 'start_date': '2020-04-27', 'end_date': '*miss*'}\n",
      "{'policy_id': 54, 'country': 'Korea', 'type': 'Administrative', 'gov_policy': 'Close bars and clubs', 'detail': 'administrative order to close bars and clubs', 'start_date': '2020-05-08', 'end_date': '2020-06-07'}\n",
      "{'policy_id': 55, 'country': 'Korea', 'type': 'Administrative', 'gov_policy': 'local government Administrative orders', 'detail': 'Gathering limited administrative orders for nursing homes, nursing homes, elderly day care centers and mental hospitals used by vulnerable groups', 'start_date': '2020-05-16', 'end_date': '*miss*'}\n",
      "{'policy_id': 56, 'country': 'Korea', 'type': 'Administrative', 'gov_policy': 'Close karaoke', 'detail': 'Ban on gathering for 2 weeks for all karaoke and coin karaoke', 'start_date': '2020-05-21', 'end_date': '2020-06-03'}\n",
      "{'policy_id': 57, 'country': 'Korea', 'type': 'Transformation', 'gov_policy': 'Logistics center', 'detail': 'On-site inspection of major logistics facilities such as courier terminals and warehouses', 'start_date': '2020-05-29', 'end_date': '2020-06-11'}\n",
      "{'policy_id': 58, 'country': 'Korea', 'type': 'Transformation', 'gov_policy': 'Wearing of masks', 'detail': 'Mandatory wearing of passenger mask domestic, international teminal in the airport', 'start_date': '2020-05-27', 'end_date': '*miss*'}\n",
      "{'policy_id': 59, 'country': 'Korea', 'type': 'Transformation', 'gov_policy': 'Wearing of masks', 'detail': 'Drivers such as buses and taxis can refuse to ride passengers without masks', 'start_date': '2020-05-26', 'end_date': '*miss*'}\n",
      "{'policy_id': 60, 'country': 'Korea', 'type': 'Technology', 'gov_policy': 'KI-Pass: Korea Internet - Pass', 'detail': 'new quick response (QR) code system this week to log visitors at high-risk entertainment facilities, restaurants and churches in a bid to track coronavirus cases and prevent further spread of the disease', 'start_date': '2020-06-10', 'end_date': '*miss*'}\n",
      "{'policy_id': 61, 'country': 'Korea', 'type': 'Health', 'gov_policy': 'Extends Tightened Quarantine Measures ', 'detail': \"Gov't Extends Tightened Quarantine Measures in Seoul Metro Area\", 'start_date': '2020-05-28', 'end_date': '2020-06-14'}\n",
      "\n",
      "Flushing records...\n",
      "User record b'2e60f7ae-2418-4b32-8982-a2f2d55fb233' successfully produced to topic_policy [4] at offset 1\n",
      "User record b'c043b1aa-4abd-4840-9585-c39af118062f' successfully produced to topic_policy [4] at offset 2\n",
      "User record b'b03cc198-64ca-4f29-a930-a04b1aec0025' successfully produced to topic_policy [4] at offset 3\n",
      "User record b'1b6afb91-8eff-4099-a174-19aac60b3401' successfully produced to topic_policy [4] at offset 4\n",
      "User record b'c05f9731-2cd3-4a9c-8fe0-0c475f3f4f24' successfully produced to topic_policy [4] at offset 5\n",
      "User record b'4b8cdb87-3087-48f8-8665-926e886123e7' successfully produced to topic_policy [4] at offset 6\n",
      "User record b'85d3321d-4815-4083-bea8-22c6f0479a15' successfully produced to topic_policy [4] at offset 7\n",
      "User record b'511be1e1-caf7-48d9-89f6-f9d0c6b04493' successfully produced to topic_policy [4] at offset 8\n",
      "User record b'5ff003a6-1a27-4172-aced-03c2a4b77d62' successfully produced to topic_policy [2] at offset 1\n",
      "User record b'8a41d4b9-5c68-4b0a-addc-b6f78d8553d3' successfully produced to topic_policy [2] at offset 2\n",
      "User record b'50de396d-edcb-4929-8f5f-baeed6cd26bc' successfully produced to topic_policy [2] at offset 3\n",
      "User record b'81c09610-09a8-4466-b0c1-9a4df49deb23' successfully produced to topic_policy [2] at offset 4\n",
      "User record b'cca3c690-a44e-4f19-92f0-00c8dc98ddf8' successfully produced to topic_policy [2] at offset 5\n",
      "User record b'6022f857-98e3-4478-8520-12ef0a7a8243' successfully produced to topic_policy [2] at offset 6\n",
      "User record b'f0b42722-fbeb-4eb3-9476-1e275dd8a2dc' successfully produced to topic_policy [2] at offset 7\n",
      "User record b'5da44327-1d6b-42e7-8a47-4127611d8a64' successfully produced to topic_policy [2] at offset 8\n",
      "User record b'00dede11-ba0d-4e04-ac54-c7aa60a67c18' successfully produced to topic_policy [2] at offset 9\n",
      "User record b'0e9c14e2-460e-430c-b660-6fface89deb1' successfully produced to topic_policy [2] at offset 10\n",
      "User record b'5b66d46e-973f-411e-ae13-9ff166a501b5' successfully produced to topic_policy [2] at offset 11\n",
      "User record b'98fa5f01-7506-4abb-bb83-c523da7c35c1' successfully produced to topic_policy [2] at offset 12\n",
      "User record b'491495cd-4f87-4cc5-8318-975fc40055b4' successfully produced to topic_policy [0] at offset 2\n",
      "User record b'9fde43c5-ebd5-4248-86d2-ee7d55f78391' successfully produced to topic_policy [0] at offset 3\n",
      "User record b'd62adafe-f0ee-4ec8-a742-5b7d8cedbe8a' successfully produced to topic_policy [0] at offset 4\n",
      "User record b'55c3957b-43f3-493c-a818-23bcadc9910e' successfully produced to topic_policy [0] at offset 5\n",
      "User record b'8d991357-c379-410a-89c3-ac4ac70cfd19' successfully produced to topic_policy [0] at offset 6\n",
      "User record b'7aa93045-dbea-410d-92b8-922a8594879e' successfully produced to topic_policy [0] at offset 7\n",
      "User record b'bc746b6a-eed8-437a-8914-7a30adb5912a' successfully produced to topic_policy [0] at offset 8\n",
      "User record b'86ae96f7-db2d-4f43-86a6-fb229e04470e' successfully produced to topic_policy [0] at offset 9\n",
      "User record b'fc2706a4-4b77-4406-8cde-0754a4193834' successfully produced to topic_policy [0] at offset 10\n",
      "User record b'58046725-6028-466c-b8a9-d30ab639c884' successfully produced to topic_policy [0] at offset 11\n",
      "User record b'1740dab0-0c84-4976-8ef2-9d1a6050704f' successfully produced to topic_policy [0] at offset 12\n",
      "User record b'206d0217-83fe-4121-adb5-93198b521c29' successfully produced to topic_policy [0] at offset 13\n",
      "User record b'd5f8e1df-057b-458f-8dbe-091d2a572ad9' successfully produced to topic_policy [0] at offset 14\n",
      "User record b'32ba943b-c4af-46b6-899b-9a9aa3f2a2cf' successfully produced to topic_policy [3] at offset 0\n",
      "User record b'ca2cdb33-433c-474a-9608-51308e45f094' successfully produced to topic_policy [3] at offset 1\n",
      "User record b'a58c6a0b-4055-4778-ad50-a4ef35075e44' successfully produced to topic_policy [3] at offset 2\n",
      "User record b'90e5c6df-f31a-4d7d-9d35-f9ccb05dce98' successfully produced to topic_policy [3] at offset 3\n",
      "User record b'a3d57e2a-270d-45f9-be13-b187531bbec2' successfully produced to topic_policy [3] at offset 4\n",
      "User record b'f4a2eb31-f81c-468a-8220-c083a9869119' successfully produced to topic_policy [3] at offset 5\n",
      "User record b'fb06069d-c8cf-4d0f-a479-2e0a5c4f0052' successfully produced to topic_policy [3] at offset 6\n",
      "User record b'be85bd30-2821-4260-bd12-ee300212422e' successfully produced to topic_policy [3] at offset 7\n",
      "User record b'23d35b68-0c34-4fc5-bb5d-3b8c67017cfa' successfully produced to topic_policy [3] at offset 8\n",
      "User record b'03a40ebd-bf8e-45f5-8bfc-1e5e3f9b3535' successfully produced to topic_policy [5] at offset 0\n",
      "User record b'cd25bd79-86a7-4eb1-bc54-81efa401d66e' successfully produced to topic_policy [5] at offset 1\n",
      "User record b'54703606-5889-43e9-b81f-db4d1af3dacb' successfully produced to topic_policy [5] at offset 2\n",
      "User record b'51ed9e7a-3551-4083-b573-067d80bac97a' successfully produced to topic_policy [5] at offset 3\n",
      "User record b'7cb75961-4fa0-41f9-9f69-aa6dd7e03554' successfully produced to topic_policy [5] at offset 4\n",
      "User record b'3eb2b08d-c127-4cc9-a0d5-78ce2cd17b60' successfully produced to topic_policy [5] at offset 5\n",
      "User record b'324e13cb-c74b-4355-b032-f8bc774860ef' successfully produced to topic_policy [5] at offset 6\n",
      "User record b'0ae69ef6-67c4-49da-81bb-5148cf83f0df' successfully produced to topic_policy [5] at offset 7\n",
      "User record b'8810912f-9f9c-4424-b05a-58477f44116b' successfully produced to topic_policy [5] at offset 8\n",
      "User record b'c7096eeb-d962-45b6-8d2d-3881101d11af' successfully produced to topic_policy [5] at offset 9\n",
      "User record b'b206b298-20f4-490c-bc4d-7be02d84beff' successfully produced to topic_policy [1] at offset 2\n",
      "User record b'cbe6d0ea-cda9-44d3-89d4-fa7a6ce68191' successfully produced to topic_policy [1] at offset 3\n",
      "User record b'2b4862e3-7a40-42a2-a6ce-33b15a250155' successfully produced to topic_policy [1] at offset 4\n",
      "User record b'1be4ef5e-6675-4b76-bb1d-1c87df14e85b' successfully produced to topic_policy [1] at offset 5\n",
      "User record b'101f11be-9ee2-4522-9c93-280783949283' successfully produced to topic_policy [1] at offset 6\n",
      "User record b'b00363c4-5de7-423b-a6b2-2c1d7af073f2' successfully produced to topic_policy [1] at offset 7\n",
      "User record b'6d7a6ef2-23f3-4400-a14a-5c05b021d752' successfully produced to topic_policy [1] at offset 8\n",
      "User record b'b8700d16-6c54-4514-a7e9-74c129a95ebf' successfully produced to topic_policy [1] at offset 9\n",
      "User record b'7dca11e9-b8c8-40ad-811f-d1399a9d0f03' successfully produced to topic_policy [1] at offset 10\n"
     ]
    }
   ],
   "source": [
    "#%%capture output\n",
    "processing_col_count = 1000000\n",
    "streamingToKafka(FILE_PATH, topic, schema_id, cols,processing_col_count)"
   ]
  }
 ],
 "metadata": {
  "kernelspec": {
   "display_name": "Python 3",
   "language": "python",
   "name": "python3"
  },
  "language_info": {
   "codemirror_mode": {
    "name": "ipython",
    "version": 3
   },
   "file_extension": ".py",
   "mimetype": "text/x-python",
   "name": "python",
   "nbconvert_exporter": "python",
   "pygments_lexer": "ipython3",
   "version": "3.8.0"
  },
  "orig_nbformat": 4,
  "vscode": {
   "interpreter": {
    "hash": "aee8b7b246df8f9039afb4144a1f6fd8d2ca17a180786b69acc140d282b71a49"
   }
  }
 },
 "nbformat": 4,
 "nbformat_minor": 2
}
