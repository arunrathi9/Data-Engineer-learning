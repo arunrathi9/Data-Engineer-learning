{
 "cells": [
  {
   "cell_type": "markdown",
   "metadata": {},
   "source": [
    "# Cassandra Class Learning"
   ]
  },
  {
   "cell_type": "code",
   "execution_count": 1,
   "metadata": {},
   "outputs": [
    {
     "data": {
      "text/plain": [
       "'3.8.0'"
      ]
     },
     "execution_count": 1,
     "metadata": {},
     "output_type": "execute_result"
    }
   ],
   "source": [
    "from platform import  python_version\n",
    "\n",
    "python_version()"
   ]
  },
  {
   "cell_type": "code",
   "execution_count": 3,
   "metadata": {},
   "outputs": [
    {
     "name": "stdout",
     "output_type": "stream",
     "text": [
      "Collecting cassandra-driver\n",
      "\u001b[?25l  Downloading https://files.pythonhosted.org/packages/12/bf/c41db65a72df60019d86a054b2dd343f6cb4176b4ebac53e759623d534fe/cassandra_driver-3.25.0-cp38-cp38-macosx_10_9_x86_64.whl (4.1MB)\n",
      "\u001b[K     |████████████████████████████████| 4.1MB 8.0MB/s eta 0:00:01\n",
      "\u001b[?25hCollecting geomet<0.3,>=0.1 (from cassandra-driver)\n",
      "  Using cached https://files.pythonhosted.org/packages/c9/81/156ca48f950f833ddc392f8e3677ca50a18cb9d5db38ccb4ecea55a9303f/geomet-0.2.1.post1-py3-none-any.whl\n",
      "Requirement already satisfied: six>=1.9 in /Library/Frameworks/Python.framework/Versions/3.8/lib/python3.8/site-packages (from cassandra-driver) (1.16.0)\n",
      "Collecting click (from geomet<0.3,>=0.1->cassandra-driver)\n",
      "  Using cached https://files.pythonhosted.org/packages/c2/f1/df59e28c642d583f7dacffb1e0965d0e00b218e0186d7858ac5233dce840/click-8.1.3-py3-none-any.whl\n",
      "Installing collected packages: click, geomet, cassandra-driver\n",
      "Successfully installed cassandra-driver-3.25.0 click-8.1.3 geomet-0.2.1.post1\n",
      "\u001b[33mWARNING: You are using pip version 19.2.3, however version 22.3.1 is available.\n",
      "You should consider upgrading via the 'pip install --upgrade pip' command.\u001b[0m\n",
      "Note: you may need to restart the kernel to use updated packages.\n"
     ]
    }
   ],
   "source": [
    "pip install cassandra-driver"
   ]
  },
  {
   "cell_type": "code",
   "execution_count": 4,
   "metadata": {},
   "outputs": [
    {
     "name": "stdout",
     "output_type": "stream",
     "text": [
      "3.25.0\n"
     ]
    }
   ],
   "source": [
    "import cassandra\n",
    "print(cassandra.__version__)"
   ]
  },
  {
   "cell_type": "code",
   "execution_count": 5,
   "metadata": {},
   "outputs": [
    {
     "ename": "FileNotFoundError",
     "evalue": "[Errno 2] No such file or directory: 'tmp0_briadn/config.json'",
     "output_type": "error",
     "traceback": [
      "\u001b[0;31m---------------------------------------------------------------------------\u001b[0m",
      "\u001b[0;31mFileNotFoundError\u001b[0m                         Traceback (most recent call last)",
      "Cell \u001b[0;32mIn[5], line 8\u001b[0m\n\u001b[1;32m      4\u001b[0m cloud_config\u001b[39m=\u001b[39m {\n\u001b[1;32m      5\u001b[0m          \u001b[39m'\u001b[39m\u001b[39msecure_connect_bundle\u001b[39m\u001b[39m'\u001b[39m: \u001b[39m'\u001b[39m\u001b[39msecure-connect-cassandra-demo2.zip\u001b[39m\u001b[39m'\u001b[39m\n\u001b[1;32m      6\u001b[0m }\n\u001b[1;32m      7\u001b[0m auth_provider \u001b[39m=\u001b[39m PlainTextAuthProvider(\u001b[39m'\u001b[39m\u001b[39mKJwUwUDOkUXtHbcNtNpxNLoW\u001b[39m\u001b[39m'\u001b[39m, \u001b[39m'\u001b[39m\u001b[39m-5yfBRzClRav6HPp2ZZ21vJvIzGJQ6.zWrZQDyzANZskXZ2T3rATmZ+d77ic--wHzZKyMFdQ7FnpX+B+EpJ,EaX_l6q5j,5pIvhdz+CwgIJ4CJhLRQb_U6cp6hdZa46i\u001b[39m\u001b[39m'\u001b[39m)\n\u001b[0;32m----> 8\u001b[0m cluster \u001b[39m=\u001b[39m Cluster(cloud\u001b[39m=\u001b[39;49mcloud_config, auth_provider\u001b[39m=\u001b[39;49mauth_provider)\n\u001b[1;32m      9\u001b[0m session \u001b[39m=\u001b[39m cluster\u001b[39m.\u001b[39mconnect()\n\u001b[1;32m     11\u001b[0m row \u001b[39m=\u001b[39m session\u001b[39m.\u001b[39mexecute(\u001b[39m\"\u001b[39m\u001b[39mselect release_version from system.local\u001b[39m\u001b[39m\"\u001b[39m)\u001b[39m.\u001b[39mone()\n",
      "File \u001b[0;32m/Library/Frameworks/Python.framework/Versions/3.8/lib/python3.8/site-packages/cassandra/cluster.py:1125\u001b[0m, in \u001b[0;36mcassandra.cluster.Cluster.__init__\u001b[0;34m()\u001b[0m\n",
      "File \u001b[0;32m/Library/Frameworks/Python.framework/Versions/3.8/lib/python3.8/site-packages/cassandra/datastax/cloud/__init__.py:88\u001b[0m, in \u001b[0;36mget_cloud_config\u001b[0;34m(cloud_config, create_pyopenssl_context)\u001b[0m\n\u001b[1;32m     85\u001b[0m     \u001b[39mraise\u001b[39;00m \u001b[39mValueError\u001b[39;00m(\u001b[39m\"\u001b[39m\u001b[39mThe cloud config doesn\u001b[39m\u001b[39m'\u001b[39m\u001b[39mt have a secure_connect_bundle specified.\u001b[39m\u001b[39m\"\u001b[39m)\n\u001b[1;32m     87\u001b[0m \u001b[39mtry\u001b[39;00m:\n\u001b[0;32m---> 88\u001b[0m     config \u001b[39m=\u001b[39m read_cloud_config_from_zip(cloud_config, create_pyopenssl_context)\n\u001b[1;32m     89\u001b[0m \u001b[39mexcept\u001b[39;00m BadZipFile:\n\u001b[1;32m     90\u001b[0m     \u001b[39mraise\u001b[39;00m \u001b[39mValueError\u001b[39;00m(\u001b[39m\"\u001b[39m\u001b[39mUnable to open the zip file for the cloud config. Check your secure connect bundle.\u001b[39m\u001b[39m\"\u001b[39m)\n",
      "File \u001b[0;32m/Library/Frameworks/Python.framework/Versions/3.8/lib/python3.8/site-packages/cassandra/datastax/cloud/__init__.py:106\u001b[0m, in \u001b[0;36mread_cloud_config_from_zip\u001b[0;34m(cloud_config, create_pyopenssl_context)\u001b[0m\n\u001b[1;32m    104\u001b[0m \u001b[39mtry\u001b[39;00m:\n\u001b[1;32m    105\u001b[0m     zipfile\u001b[39m.\u001b[39mextractall(path\u001b[39m=\u001b[39mtmp_dir)\n\u001b[0;32m--> 106\u001b[0m     \u001b[39mreturn\u001b[39;00m parse_cloud_config(os\u001b[39m.\u001b[39;49mpath\u001b[39m.\u001b[39;49mjoin(tmp_dir, \u001b[39m'\u001b[39;49m\u001b[39mconfig.json\u001b[39;49m\u001b[39m'\u001b[39;49m), cloud_config, create_pyopenssl_context)\n\u001b[1;32m    107\u001b[0m \u001b[39mfinally\u001b[39;00m:\n\u001b[1;32m    108\u001b[0m     shutil\u001b[39m.\u001b[39mrmtree(tmp_dir)\n",
      "File \u001b[0;32m/Library/Frameworks/Python.framework/Versions/3.8/lib/python3.8/site-packages/cassandra/datastax/cloud/__init__.py:112\u001b[0m, in \u001b[0;36mparse_cloud_config\u001b[0;34m(path, cloud_config, create_pyopenssl_context)\u001b[0m\n\u001b[1;32m    111\u001b[0m \u001b[39mdef\u001b[39;00m \u001b[39mparse_cloud_config\u001b[39m(path, cloud_config, create_pyopenssl_context):\n\u001b[0;32m--> 112\u001b[0m     \u001b[39mwith\u001b[39;00m \u001b[39mopen\u001b[39;49m(path, \u001b[39m'\u001b[39;49m\u001b[39mr\u001b[39;49m\u001b[39m'\u001b[39;49m) \u001b[39mas\u001b[39;00m stream:\n\u001b[1;32m    113\u001b[0m         data \u001b[39m=\u001b[39m json\u001b[39m.\u001b[39mload(stream)\n\u001b[1;32m    115\u001b[0m     config \u001b[39m=\u001b[39m CloudConfig\u001b[39m.\u001b[39mfrom_dict(data)\n",
      "\u001b[0;31mFileNotFoundError\u001b[0m: [Errno 2] No such file or directory: 'tmp0_briadn/config.json'"
     ]
    }
   ],
   "source": [
    "from cassandra.cluster import Cluster\n",
    "from cassandra.auth import PlainTextAuthProvider\n",
    "\n",
    "cloud_config= {\n",
    "         'secure_connect_bundle': 'secure-connect-cassandra-demo2.zip'\n",
    "}\n",
    "auth_provider = PlainTextAuthProvider('KJwUwUDOkUXtHbcNtNpxNLoW', '-5yfBRzClRav6HPp2ZZ21vJvIzGJQ6.zWrZQDyzANZskXZ2T3rATmZ+d77ic--wHzZKyMFdQ7FnpX+B+EpJ,EaX_l6q5j,5pIvhdz+CwgIJ4CJhLRQb_U6cp6hdZa46i')\n",
    "cluster = Cluster(cloud=cloud_config, auth_provider=auth_provider)\n",
    "session = cluster.connect()\n",
    "\n",
    "row = session.execute(\"select release_version from system.local\").one()\n",
    "if row:\n",
    "      print(row[0])\n",
    "else:\n",
    "      print(\"An error occurred.\")"
   ]
  }
 ],
 "metadata": {
  "kernelspec": {
   "display_name": "Python 3",
   "language": "python",
   "name": "python3"
  },
  "language_info": {
   "codemirror_mode": {
    "name": "ipython",
    "version": 3
   },
   "file_extension": ".py",
   "mimetype": "text/x-python",
   "name": "python",
   "nbconvert_exporter": "python",
   "pygments_lexer": "ipython3",
   "version": "3.8.0"
  },
  "orig_nbformat": 4,
  "vscode": {
   "interpreter": {
    "hash": "aee8b7b246df8f9039afb4144a1f6fd8d2ca17a180786b69acc140d282b71a49"
   }
  }
 },
 "nbformat": 4,
 "nbformat_minor": 2
}
