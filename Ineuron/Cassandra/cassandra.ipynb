{
 "cells": [
  {
   "cell_type": "markdown",
   "metadata": {},
   "source": [
    "# Cassandra Class Learning"
   ]
  },
  {
   "cell_type": "code",
   "execution_count": 22,
   "metadata": {},
   "outputs": [
    {
     "data": {
      "text/plain": [
       "'3.8.0'"
      ]
     },
     "execution_count": 22,
     "metadata": {},
     "output_type": "execute_result"
    }
   ],
   "source": [
    "from platform import  python_version\n",
    "\n",
    "python_version()"
   ]
  },
  {
   "cell_type": "code",
   "execution_count": 23,
   "metadata": {},
   "outputs": [
    {
     "name": "stdout",
     "output_type": "stream",
     "text": [
      "Requirement already satisfied: cassandra-driver in /Library/Frameworks/Python.framework/Versions/3.8/lib/python3.8/site-packages (3.25.0)\n",
      "Requirement already satisfied: six>=1.9 in /Library/Frameworks/Python.framework/Versions/3.8/lib/python3.8/site-packages (from cassandra-driver) (1.16.0)\n",
      "Requirement already satisfied: geomet<0.3,>=0.1 in /Library/Frameworks/Python.framework/Versions/3.8/lib/python3.8/site-packages (from cassandra-driver) (0.2.1.post1)\n",
      "Requirement already satisfied: click in /Library/Frameworks/Python.framework/Versions/3.8/lib/python3.8/site-packages (from geomet<0.3,>=0.1->cassandra-driver) (8.1.3)\n",
      "\u001b[33mWARNING: You are using pip version 19.2.3, however version 22.3.1 is available.\n",
      "You should consider upgrading via the 'pip install --upgrade pip' command.\u001b[0m\n",
      "Note: you may need to restart the kernel to use updated packages.\n"
     ]
    }
   ],
   "source": [
    "pip install cassandra-driver"
   ]
  },
  {
   "cell_type": "code",
   "execution_count": 29,
   "metadata": {},
   "outputs": [
    {
     "name": "stdout",
     "output_type": "stream",
     "text": [
      "3.25.0\n"
     ]
    }
   ],
   "source": [
    "import cassandra\n",
    "print(cassandra.__version__)"
   ]
  },
  {
   "attachments": {},
   "cell_type": "markdown",
   "metadata": {},
   "source": [
    "**Don't download the bundle file in Safari browser as it automatically unzip the file**"
   ]
  },
  {
   "cell_type": "code",
   "execution_count": 30,
   "metadata": {},
   "outputs": [
    {
     "name": "stdout",
     "output_type": "stream",
     "text": [
      "4.0.0.6816\n"
     ]
    }
   ],
   "source": [
    "from cassandra.cluster import Cluster\n",
    "from cassandra.auth import PlainTextAuthProvider\n",
    "\n",
    "cloud_config= {\n",
    "         'secure_connect_bundle': 'secure-connect-cassandradb.zip'\n",
    "}\n",
    "auth_provider = PlainTextAuthProvider('gUGIOUaOqFlNpPcxyFtBpBbI', 'AjtXb_I6uscYuzvGMEr,cZT365GdFZx,-14dmh7Sin9QBZ1Npht.EawJLj7M7u2.JbzlXpR4ANs3j,vZPJHmJsLujFzw.kod1WBtp4hoXbpNeKvuSBrlIsf-+jUsRYL-')\n",
    "cluster = Cluster(cloud=cloud_config, auth_provider=auth_provider)\n",
    "session = cluster.connect()\n",
    "\n",
    "row = session.execute(\"select release_version from system.local\").one()\n",
    "if row:\n",
    "      print(row[0])\n",
    "else:\n",
    "      print(\"An error occurred.\")"
   ]
  },
  {
   "cell_type": "code",
   "execution_count": 31,
   "metadata": {},
   "outputs": [
    {
     "name": "stdout",
     "output_type": "stream",
     "text": [
      "Inside the keyspace\n"
     ]
    }
   ],
   "source": [
    "# Command to use a keyspace\n",
    "try:\n",
    "    query = \"use test_keyspace\"\n",
    "    session.execute(query)\n",
    "    print(\"Inside the keyspace\")\n",
    "except Exception as err:\n",
    "    print(\"Exception Occured while using Keyspace : \",err)"
   ]
  },
  {
   "cell_type": "code",
   "execution_count": 8,
   "metadata": {},
   "outputs": [
    {
     "name": "stdout",
     "output_type": "stream",
     "text": [
      "Exception occured while creating Keyspace:  Error from server: code=2100 [Unauthorized] message=\"Missing correct permission on employee_management.: Keyspace management is currently only supported at https://astra.datastax.com/org/d0b38d30-4ee1-441a-9b81-bf8201a46957/database/ea76188d-8db6-4bbd-ba71-3fc92bbe498b\"\n"
     ]
    }
   ],
   "source": [
    "try:\n",
    "    query = \"Create keyspace employee_management with replication = {'class': 'SimpleStrategy', 'replication_factor':3}\"\n",
    "    session.execute(query)\n",
    "    print(\"Keyspace created Successfully\")\n",
    "except Exception as err:\n",
    "    print(\"Exception occured while creating Keyspace: \",err)"
   ]
  },
  {
   "cell_type": "code",
   "execution_count": 27,
   "metadata": {},
   "outputs": [
    {
     "name": "stdout",
     "output_type": "stream",
     "text": [
      "Exception Occured while altering Keyspace :  Error from server: code=2100 [Unauthorized] message=\"Missing correct permission on test_keyspace.: Keyspace management is currently only supported at https://astra.datastax.com/org/d0b38d30-4ee1-441a-9b81-bf8201a46957/database/ea76188d-8db6-4bbd-ba71-3fc92bbe498b\"\n"
     ]
    }
   ],
   "source": [
    "# Command to Alter the keyspace in Cassandra\n",
    "try:\n",
    "    query = \"alter keyspace test_keyspace with replication = {'class' : 'SimpleStrategy', 'replication_factor' : 2}\"\n",
    "    session.execute(query)\n",
    "    print(\"Keyspace Altered Successfully !!\")\n",
    "except Exception as err:\n",
    "    print(\"Exception Occured while altering Keyspace : \",err)"
   ]
  },
  {
   "cell_type": "code",
   "execution_count": 39,
   "metadata": {},
   "outputs": [
    {
     "name": "stdout",
     "output_type": "stream",
     "text": [
      "Table created inside the keyspace\n"
     ]
    }
   ],
   "source": [
    "# Command to create a table inside a KEyspace\n",
    "try:\n",
    "    query = \"\"\"create table employee(\n",
    "                emp_id int,\n",
    "                emp_name varchar,\n",
    "                emp_salary int,\n",
    "                emp_dept varchar,\n",
    "                emp_email varchar,\n",
    "                emp_phone varchar,\n",
    "                primary key (emp_id, emp_dept)\n",
    "              )\n",
    "            \"\"\"\n",
    "    session.execute(query)\n",
    "    print(\"Table created inside the keyspace\")\n",
    "except Exception as err:\n",
    "    print(\"Exception Occured while creating the table : \",err)"
   ]
  },
  {
   "cell_type": "code",
   "execution_count": 33,
   "metadata": {},
   "outputs": [
    {
     "name": "stdout",
     "output_type": "stream",
     "text": [
      "Table created successfully\n"
     ]
    }
   ],
   "source": [
    "try:\n",
    "    query=\"\"\"create table result(\n",
    "        student_id int,\n",
    "        student_name VARCHAR,\n",
    "        student_marks int,\n",
    "        primary key (student_id)\n",
    "    )\n",
    "    \"\"\"\n",
    "    session.execute(query)\n",
    "    print(\"Table created successfully\")\n",
    "except Exception as err:\n",
    "    print(\"Exception occured while creating table: \", err)"
   ]
  },
  {
   "cell_type": "code",
   "execution_count": 34,
   "metadata": {},
   "outputs": [
    {
     "name": "stdout",
     "output_type": "stream",
     "text": [
      "Exception Occured while creating the table :  <Error from server: code=2000 [Syntax error in CQL query] message=\"line 1:21 no viable alternative at input 'modify' (alter table [employee] modify...)\">\n"
     ]
    }
   ],
   "source": [
    "# alter the table in cassandra - modifying table is not available in cassandra\n",
    "\n",
    "try:\n",
    "    query = \"\"\"alter table employee modify emp_email text\n",
    "            \"\"\"\n",
    "    session.execute(query)\n",
    "    print(\"Table altered successfully\")\n",
    "except Exception as err:\n",
    "    print(\"Exception Occured while creating the table : \",err)"
   ]
  },
  {
   "cell_type": "code",
   "execution_count": 40,
   "metadata": {},
   "outputs": [
    {
     "name": "stdout",
     "output_type": "stream",
     "text": [
      "Column dropped successfully\n"
     ]
    }
   ],
   "source": [
    "# alter the table in cassandra - modifying table is not available in cassandra\n",
    "\n",
    "try:\n",
    "    query = \"\"\"alter table employee drop emp_email\n",
    "            \"\"\"\n",
    "    session.execute(query)\n",
    "    print(\"Column dropped successfully\")\n",
    "except Exception as err:\n",
    "    print(\"Exception Occured while droping the column in the table : \",err)"
   ]
  },
  {
   "cell_type": "code",
   "execution_count": 41,
   "metadata": {},
   "outputs": [
    {
     "name": "stdout",
     "output_type": "stream",
     "text": [
      "Table altered successfully\n"
     ]
    }
   ],
   "source": [
    "# adding the emp_email with text dtype\n",
    "try:\n",
    "    query = \"\"\"alter table employee add emp_email text\n",
    "            \"\"\"\n",
    "    session.execute(query)\n",
    "    print(\"Table altered successfully\")\n",
    "except Exception as err:\n",
    "    print(\"Exception Occured while creating the table : \",err)"
   ]
  },
  {
   "cell_type": "code",
   "execution_count": null,
   "metadata": {},
   "outputs": [],
   "source": [
    "# droping the employee table\n",
    "try:\n",
    "    query = \"drop table employee\"\n",
    "    session.execute(query)\n",
    "    print(\"Table dropped successfully\")\n",
    "except Exception as err:\n",
    "    print(\"Exception Occured while creating the table : \",err)"
   ]
  },
  {
   "cell_type": "code",
   "execution_count": 42,
   "metadata": {},
   "outputs": [
    {
     "name": "stdout",
     "output_type": "stream",
     "text": [
      "inserted single row successfully\n"
     ]
    }
   ],
   "source": [
    "# droping the employee table\n",
    "try:\n",
    "    query = \"insert into employee(emp_id, emp_name, emp_salary, emp_dept, emp_email, emp_phone) values(1, 'Shashank', 10000, 'Software', 'abc.gmail.com','+91 768467474')\"\n",
    "    \n",
    "    session.execute(query)\n",
    "    print(\"inserted single row successfully\")\n",
    "except Exception as err:\n",
    "    print(\"Exception Occured while inserting the row in the table : \",err)"
   ]
  },
  {
   "cell_type": "code",
   "execution_count": 46,
   "metadata": {},
   "outputs": [
    {
     "name": "stdout",
     "output_type": "stream",
     "text": [
      "Exception Occured while inserting the row in the table :  <Error from server: code=2000 [Syntax error in CQL query] message=\"line 1:21 no viable alternative at input 'values' (insert into [employee] values...)\">\n"
     ]
    }
   ],
   "source": [
    "# droping the employee table\n",
    "try:\n",
    "    query = \"\"\"insert into employee values (1, 'Shashank', 10000, 'Software', 'abc.gmail.com','+91 768467474'),\n",
    "    (2, 'Sunny', 10000, 'Developer', 'mno.gmail.com','+91 768466674'),\n",
    "    (3, 'Vishal', 10000, 'Administrator', 'xyz.gmail.com','+91 768467774')\"\"\"\n",
    "    \n",
    "    session.execute(query)\n",
    "    print(\"inserted single row successfully\")\n",
    "except Exception as err:\n",
    "    print(\"Exception Occured while inserting the row in the table : \",err)"
   ]
  },
  {
   "cell_type": "code",
   "execution_count": 47,
   "metadata": {},
   "outputs": [
    {
     "name": "stdout",
     "output_type": "stream",
     "text": [
      "Record inserted successfully !!\n"
     ]
    }
   ],
   "source": [
    "# Insert data into cassandra table\n",
    "try:\n",
    "    query = \"insert into employee(emp_id, emp_name, emp_salary, emp_dept, emp_email, emp_phone) values(2, 'Rahul', 20000, 'IT', 'xyx.gmail.com','+91 908467474')\"\n",
    "    session.execute(query)\n",
    "    print(\"Record inserted successfully !!\")\n",
    "except Exception as err:\n",
    "    print(\"Exception Occured while inserting the data into table: \",err)"
   ]
  },
  {
   "cell_type": "code",
   "execution_count": 48,
   "metadata": {},
   "outputs": [
    {
     "name": "stdout",
     "output_type": "stream",
     "text": [
      "Record inserted successfully !!\n"
     ]
    }
   ],
   "source": [
    "# Insert data into cassandra table\n",
    "try:\n",
    "    query = \"insert into employee(emp_id, emp_name, emp_salary, emp_dept, emp_email, emp_phone) values(3, 'Sunny', 22000, 'HR', 'klm.gmail.com','+91 800067474')\"\n",
    "    session.execute(query)\n",
    "    print(\"Record inserted successfully !!\")\n",
    "except Exception as err:\n",
    "    print(\"Exception Occured while inserting the data into table: \",err)"
   ]
  },
  {
   "cell_type": "code",
   "execution_count": 49,
   "metadata": {},
   "outputs": [
    {
     "name": "stdout",
     "output_type": "stream",
     "text": [
      "Record inserted successfully !!\n"
     ]
    }
   ],
   "source": [
    "\n",
    "# Insert data into cassandra table\n",
    "try:\n",
    "    query = \"insert into employee(emp_id, emp_name, emp_salary, emp_dept, emp_email, emp_phone) values(4, 'Vishal', 30000, 'Software', 'mno.gmail.com','+91 600467474')\"\n",
    "    session.execute(query)\n",
    "    print(\"Record inserted successfully !!\")\n",
    "except Exception as err:\n",
    "    print(\"Exception Occured while inserting the data into table: \",err)"
   ]
  },
  {
   "cell_type": "code",
   "execution_count": 50,
   "metadata": {},
   "outputs": [
    {
     "name": "stdout",
     "output_type": "stream",
     "text": [
      "Row(emp_id=1, emp_dept='Software', emp_email='abc.gmail.com', emp_name='Shashank', emp_phone='+91 768467474', emp_salary=10000)\n",
      "Row(emp_id=2, emp_dept='IT', emp_email='xyx.gmail.com', emp_name='Rahul', emp_phone='+91 908467474', emp_salary=20000)\n",
      "Row(emp_id=4, emp_dept='Software', emp_email='mno.gmail.com', emp_name='Vishal', emp_phone='+91 600467474', emp_salary=30000)\n",
      "Row(emp_id=3, emp_dept='HR', emp_email='klm.gmail.com', emp_name='Sunny', emp_phone='+91 800067474', emp_salary=22000)\n"
     ]
    }
   ],
   "source": [
    "# Select query on cassandra table\n",
    "try:\n",
    "    query = \"select * from employee\"\n",
    "    result = session.execute(query)\n",
    "    for row in result:\n",
    "        print(row)\n",
    "except Exception as err:\n",
    "    print(\"Exception Occured while selecting the data from table: \",err)"
   ]
  },
  {
   "cell_type": "code",
   "execution_count": 51,
   "metadata": {},
   "outputs": [
    {
     "name": "stdout",
     "output_type": "stream",
     "text": [
      "Emp ID :  1\n",
      "Emp Name :  Shashank\n",
      "Emp ID :  2\n",
      "Emp Name :  Rahul\n",
      "Emp ID :  4\n",
      "Emp Name :  Vishal\n",
      "Emp ID :  3\n",
      "Emp Name :  Sunny\n"
     ]
    }
   ],
   "source": [
    "try:\n",
    "    query = \"Select emp_id, emp_name from employee\"\n",
    "    result = session.execute(query)\n",
    "    for row in result:\n",
    "        print(\"Emp ID : \",row[0]) # row['emp_id'] do not work in cassandra\n",
    "        print(\"Emp Name : \",row[1])\n",
    "except Exception as err:\n",
    "    print(\"Exception occured when selecting data from table: \",err)"
   ]
  },
  {
   "attachments": {},
   "cell_type": "markdown",
   "metadata": {},
   "source": [
    "**Write a query to filter data from cassandra table or how to use where clause**"
   ]
  },
  {
   "cell_type": "code",
   "execution_count": 53,
   "metadata": {},
   "outputs": [
    {
     "name": "stdout",
     "output_type": "stream",
     "text": [
      "Exception occured when selecting data from table:  Error from server: code=2200 [Invalid query] message=\"Cannot execute this query as it might involve data filtering and thus may have unpredictable performance. If you want to execute this query despite the performance unpredictability, use ALLOW FILTERING\"\n"
     ]
    }
   ],
   "source": [
    "try:\n",
    "    query = \"Select emp_id, emp_name from employee where emp_name = 'Shashank'\"\n",
    "    result = session.execute(query)\n",
    "    for row in result:\n",
    "        print(\"Emp ID : \",row[0]) # row['emp_id'] do not work in cassandra\n",
    "        print(\"Emp Name : \",row[1])\n",
    "except Exception as err:\n",
    "    print(\"Exception occured when selecting data from table: \",err)"
   ]
  },
  {
   "cell_type": "code",
   "execution_count": 54,
   "metadata": {},
   "outputs": [
    {
     "name": "stdout",
     "output_type": "stream",
     "text": [
      "Emp ID :  1\n",
      "Emp Name :  Shashank\n"
     ]
    }
   ],
   "source": [
    "# Rules for where clause - It can be used effectively with high performance for given below type of coluns\n",
    "# 1.) Partition key (single or composite)\n",
    "# OR\n",
    "# 2.) if Cluster column then it should be with Partition key \n",
    "# 3.) A column on which we have applied the index\n",
    "# 4.) A Column which is not part of partition key or index column or clustering column then we can use where clause but we have use keyword ALLOW FILTERING - it will be a super slow performance when data volumne is vvery high\n",
    "\n",
    "try:\n",
    "    query = \"Select emp_id, emp_name from employee where emp_name = 'Shashank' ALLOW FILTERING\"\n",
    "    result = session.execute(query)\n",
    "    for row in result:\n",
    "        print(\"Emp ID : \",row[0]) # row['emp_id'] do not work in cassandra\n",
    "        print(\"Emp Name : \",row[1])\n",
    "except Exception as err:\n",
    "    print(\"Exception occured when selecting data from table: \",err)"
   ]
  },
  {
   "cell_type": "code",
   "execution_count": 55,
   "metadata": {},
   "outputs": [
    {
     "name": "stdout",
     "output_type": "stream",
     "text": [
      "Emp ID :  2\n",
      "Emp Name :  Rahul\n"
     ]
    }
   ],
   "source": [
    "# WHERE Clause for Partition key only or Rule no - 1\n",
    "try:\n",
    "    query = \"Select emp_id, emp_name from employee where emp_id=2\"\n",
    "    result = session.execute(query)\n",
    "    for row in result:\n",
    "        print(\"Emp ID : \",row[0]) # row['emp_id'] do not work in cassandra\n",
    "        print(\"Emp Name : \",row[1])\n",
    "except Exception as err:\n",
    "    print(\"Exception occured when selecting data from table: \",err)"
   ]
  },
  {
   "cell_type": "code",
   "execution_count": 56,
   "metadata": {},
   "outputs": [
    {
     "name": "stdout",
     "output_type": "stream",
     "text": [
      "Emp ID :  1\n",
      "Emp Name :  Shashank\n"
     ]
    }
   ],
   "source": [
    "# where clause for clustering key only or Rule no - 2\n",
    "try:\n",
    "    query = \"Select emp_id, emp_name from employee where emp_dept='Software' and emp_id=1\" # sequence matter with composite key i.e partition key, \n",
    "    result = session.execute(query)\n",
    "    for row in result:\n",
    "        print(\"Emp ID : \",row[0]) # row['emp_id'] do not work in cassandra\n",
    "        print(\"Emp Name : \",row[1])\n",
    "except Exception as err:\n",
    "    print(\"Exception occured when selecting data from table: \",err)"
   ]
  },
  {
   "cell_type": "code",
   "execution_count": null,
   "metadata": {},
   "outputs": [],
   "source": [
    "# we have another composite partition key\n",
    "primary key ((employeeid, fname), dept)\n",
    "\n",
    "select * from employee where employeeid = 'x' and dept = 'software' and fname = 'shashank' #wrong query\n",
    "\n",
    "select * from employee where dept = 'software' and employeeid = 'x' and fname = 'shashank' # correct query as employeeid = 'x' and fname = 'shashank' are in same sequence as we have in query."
   ]
  },
  {
   "cell_type": "code",
   "execution_count": 57,
   "metadata": {},
   "outputs": [
    {
     "name": "stdout",
     "output_type": "stream",
     "text": [
      "Exception occured when selecting data from table:  Error from server: code=2200 [Invalid query] message=\"Group by is currently only supported on the columns of the PRIMARY KEY, got emp_name\"\n"
     ]
    }
   ],
   "source": [
    "# group by in cassandra possible in latest version\n",
    "\n",
    "try:\n",
    "    query = \"Select sum(emp_salary) as sum_salary from employee group by emp_name\" \n",
    "    result = session.execute(query)\n",
    "    for row in result:\n",
    "        print(\"Emp ID : \",row[0]) # row['emp_id'] do not work in cassandra\n",
    "        print(\"Emp Name : \",row[1])\n",
    "except Exception as err:\n",
    "    print(\"Exception occured when selecting data from table: \",err)"
   ]
  },
  {
   "cell_type": "code",
   "execution_count": 58,
   "metadata": {},
   "outputs": [
    {
     "name": "stdout",
     "output_type": "stream",
     "text": [
      "Exception occured when selecting data from table:  Error from server: code=2200 [Invalid query] message=\"Group by currently only support groups of columns following their declared order in the PRIMARY KEY\"\n"
     ]
    }
   ],
   "source": [
    "# group by in cassandra possible in latest version\n",
    "\n",
    "try:\n",
    "    query = \"Select sum(emp_salary) as sum_salary from employee group by emp_dept\" \n",
    "    result = session.execute(query)\n",
    "    for row in result:\n",
    "        print(\"Emp ID : \",row[0]) # row['emp_id'] do not work in cassandra\n",
    "        print(\"Emp Name : \",row[1])\n",
    "except Exception as err:\n",
    "    print(\"Exception occured when selecting data from table: \",err)"
   ]
  },
  {
   "cell_type": "code",
   "execution_count": 61,
   "metadata": {},
   "outputs": [
    {
     "name": "stdout",
     "output_type": "stream",
     "text": [
      "Row(emp_id=1, sum_salary=10000)\n"
     ]
    }
   ],
   "source": [
    "# group by in cassandra possible in latest version\n",
    "\n",
    "# Follow given below rules\n",
    "# Rule - 1 : Use only partition key in the group by\n",
    "        # OR\n",
    "# Rule - 2 : If cluster key column is used then follow the actual declared sequence in the primary key\n",
    "try:\n",
    "    query = \"Select emp_id, sum(emp_salary) as sum_salary from employee group by emp_id\" \n",
    "    result = session.execute(query)\n",
    "    row = result.one()\n",
    "    print(row)\n",
    "except Exception as err:\n",
    "    print(\"Exception occured when selecting data from table: \",err)"
   ]
  },
  {
   "cell_type": "code",
   "execution_count": 63,
   "metadata": {},
   "outputs": [
    {
     "name": "stdout",
     "output_type": "stream",
     "text": [
      "Row(emp_id=1, emp_dept='Software', sum_salary=10000)\n"
     ]
    }
   ],
   "source": [
    "# Rule - 2 : If cluster key column is used then follow the actual declared sequence in the primary key\n",
    "try:\n",
    "    query = \"Select emp_id, emp_dept, sum(emp_salary) as sum_salary from employee group by emp_id, emp_dept\" \n",
    "    result = session.execute(query)\n",
    "    row = result.one()\n",
    "    print(row)\n",
    "except Exception as err:\n",
    "    print(\"Exception occured when selecting data from table: \",err)"
   ]
  }
 ],
 "metadata": {
  "kernelspec": {
   "display_name": "Python 3",
   "language": "python",
   "name": "python3"
  },
  "language_info": {
   "codemirror_mode": {
    "name": "ipython",
    "version": 3
   },
   "file_extension": ".py",
   "mimetype": "text/x-python",
   "name": "python",
   "nbconvert_exporter": "python",
   "pygments_lexer": "ipython3",
   "version": "3.8.0 (v3.8.0:fa919fdf25, Oct 14 2019, 10:23:27) \n[Clang 6.0 (clang-600.0.57)]"
  },
  "orig_nbformat": 4,
  "vscode": {
   "interpreter": {
    "hash": "aee8b7b246df8f9039afb4144a1f6fd8d2ca17a180786b69acc140d282b71a49"
   }
  }
 },
 "nbformat": 4,
 "nbformat_minor": 2
}
