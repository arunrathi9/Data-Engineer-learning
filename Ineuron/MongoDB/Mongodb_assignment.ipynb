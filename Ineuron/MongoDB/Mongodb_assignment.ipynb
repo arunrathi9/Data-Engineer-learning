{
 "cells": [
  {
   "cell_type": "markdown",
   "metadata": {},
   "source": [
    "### Task - for above dataset\n",
    "1. Create a database admission\n",
    "2. Create a collection addmission_details\n",
    "3. You have to dump this df to mongodb collection"
   ]
  },
  {
   "cell_type": "markdown",
   "metadata": {},
   "source": [
    "#google form for submission\n",
    "\n",
    "https://forms.gle/Cw7552m8TWTyauG28"
   ]
  },
  {
   "cell_type": "code",
   "execution_count": 1,
   "metadata": {},
   "outputs": [],
   "source": [
    "import pymongo\n",
    "\n",
    "client = pymongo.MongoClient('mongodb://localhost:27017/admission')"
   ]
  },
  {
   "cell_type": "code",
   "execution_count": 2,
   "metadata": {},
   "outputs": [],
   "source": [
    "database = client['admission']"
   ]
  },
  {
   "cell_type": "code",
   "execution_count": 3,
   "metadata": {},
   "outputs": [
    {
     "data": {
      "text/plain": [
       "['admin', 'analyticsInterview', 'config', 'local', 'neurolabDB']"
      ]
     },
     "execution_count": 3,
     "metadata": {},
     "output_type": "execute_result"
    }
   ],
   "source": [
    "client.list_database_names()"
   ]
  },
  {
   "cell_type": "code",
   "execution_count": 4,
   "metadata": {},
   "outputs": [],
   "source": [
    "collection = database['admission_details']"
   ]
  },
  {
   "cell_type": "code",
   "execution_count": 8,
   "metadata": {},
   "outputs": [],
   "source": [
    "import pandas as pd\n",
    "\n",
    "df = pd.read_csv('./Admission.csv')"
   ]
  },
  {
   "cell_type": "code",
   "execution_count": 9,
   "metadata": {},
   "outputs": [
    {
     "data": {
      "text/html": [
       "<div>\n",
       "<style scoped>\n",
       "    .dataframe tbody tr th:only-of-type {\n",
       "        vertical-align: middle;\n",
       "    }\n",
       "\n",
       "    .dataframe tbody tr th {\n",
       "        vertical-align: top;\n",
       "    }\n",
       "\n",
       "    .dataframe thead th {\n",
       "        text-align: right;\n",
       "    }\n",
       "</style>\n",
       "<table border=\"1\" class=\"dataframe\">\n",
       "  <thead>\n",
       "    <tr style=\"text-align: right;\">\n",
       "      <th></th>\n",
       "      <th>Serial No.</th>\n",
       "      <th>GRE Score</th>\n",
       "      <th>TOEFL Score</th>\n",
       "      <th>University Rating</th>\n",
       "      <th>SOP</th>\n",
       "      <th>LOR</th>\n",
       "      <th>CGPA</th>\n",
       "      <th>Research</th>\n",
       "      <th>Chance of Admit</th>\n",
       "    </tr>\n",
       "  </thead>\n",
       "  <tbody>\n",
       "    <tr>\n",
       "      <th>0</th>\n",
       "      <td>1</td>\n",
       "      <td>337</td>\n",
       "      <td>118</td>\n",
       "      <td>4</td>\n",
       "      <td>4.5</td>\n",
       "      <td>4.5</td>\n",
       "      <td>9.65</td>\n",
       "      <td>1</td>\n",
       "      <td>0.92</td>\n",
       "    </tr>\n",
       "    <tr>\n",
       "      <th>1</th>\n",
       "      <td>2</td>\n",
       "      <td>324</td>\n",
       "      <td>107</td>\n",
       "      <td>4</td>\n",
       "      <td>4.0</td>\n",
       "      <td>4.5</td>\n",
       "      <td>8.87</td>\n",
       "      <td>1</td>\n",
       "      <td>0.76</td>\n",
       "    </tr>\n",
       "    <tr>\n",
       "      <th>2</th>\n",
       "      <td>3</td>\n",
       "      <td>316</td>\n",
       "      <td>104</td>\n",
       "      <td>3</td>\n",
       "      <td>3.0</td>\n",
       "      <td>3.5</td>\n",
       "      <td>8.00</td>\n",
       "      <td>1</td>\n",
       "      <td>0.72</td>\n",
       "    </tr>\n",
       "    <tr>\n",
       "      <th>3</th>\n",
       "      <td>4</td>\n",
       "      <td>322</td>\n",
       "      <td>110</td>\n",
       "      <td>3</td>\n",
       "      <td>3.5</td>\n",
       "      <td>2.5</td>\n",
       "      <td>8.67</td>\n",
       "      <td>1</td>\n",
       "      <td>0.80</td>\n",
       "    </tr>\n",
       "    <tr>\n",
       "      <th>4</th>\n",
       "      <td>5</td>\n",
       "      <td>314</td>\n",
       "      <td>103</td>\n",
       "      <td>2</td>\n",
       "      <td>2.0</td>\n",
       "      <td>3.0</td>\n",
       "      <td>8.21</td>\n",
       "      <td>0</td>\n",
       "      <td>0.65</td>\n",
       "    </tr>\n",
       "  </tbody>\n",
       "</table>\n",
       "</div>"
      ],
      "text/plain": [
       "   Serial No.  GRE Score  TOEFL Score  University Rating  SOP  LOR   CGPA  \\\n",
       "0           1        337          118                  4  4.5   4.5  9.65   \n",
       "1           2        324          107                  4  4.0   4.5  8.87   \n",
       "2           3        316          104                  3  3.0   3.5  8.00   \n",
       "3           4        322          110                  3  3.5   2.5  8.67   \n",
       "4           5        314          103                  2  2.0   3.0  8.21   \n",
       "\n",
       "   Research  Chance of Admit   \n",
       "0         1              0.92  \n",
       "1         1              0.76  \n",
       "2         1              0.72  \n",
       "3         1              0.80  \n",
       "4         0              0.65  "
      ]
     },
     "execution_count": 9,
     "metadata": {},
     "output_type": "execute_result"
    }
   ],
   "source": [
    "df.head(5)"
   ]
  },
  {
   "cell_type": "code",
   "execution_count": null,
   "metadata": {},
   "outputs": [],
   "source": [
    "collection.insert_many(df[:5].to_dict(\"admission\"))"
   ]
  },
  {
   "cell_type": "code",
   "execution_count": 16,
   "metadata": {},
   "outputs": [
    {
     "data": {
      "text/plain": [
       "<pymongo.results.InsertManyResult at 0x12f610fd0>"
      ]
     },
     "execution_count": 16,
     "metadata": {},
     "output_type": "execute_result"
    }
   ],
   "source": [
    "df.reset_index(inplace=True)\n",
    "data_dict = df.to_dict(\"records\")\n",
    "collection.insert_many(data_dict)"
   ]
  },
  {
   "cell_type": "code",
   "execution_count": 18,
   "metadata": {},
   "outputs": [
    {
     "name": "stdout",
     "output_type": "stream",
     "text": [
      "{'_id': ObjectId('6390266e30d118c44fa351f6'), 'level_0': 0, 'index': 0, 'Serial No.': 1, 'GRE Score': 337, 'TOEFL Score': 118, 'University Rating': 4, 'SOP': 4.5, 'LOR ': 4.5, 'CGPA': 9.65, 'Research': 1, 'Chance of Admit ': 0.92}\n",
      "{'_id': ObjectId('6390266e30d118c44fa351f7'), 'level_0': 1, 'index': 1, 'Serial No.': 2, 'GRE Score': 324, 'TOEFL Score': 107, 'University Rating': 4, 'SOP': 4.0, 'LOR ': 4.5, 'CGPA': 8.87, 'Research': 1, 'Chance of Admit ': 0.76}\n",
      "{'_id': ObjectId('6390266e30d118c44fa351f8'), 'level_0': 2, 'index': 2, 'Serial No.': 3, 'GRE Score': 316, 'TOEFL Score': 104, 'University Rating': 3, 'SOP': 3.0, 'LOR ': 3.5, 'CGPA': 8.0, 'Research': 1, 'Chance of Admit ': 0.72}\n",
      "{'_id': ObjectId('6390266e30d118c44fa351f9'), 'level_0': 3, 'index': 3, 'Serial No.': 4, 'GRE Score': 322, 'TOEFL Score': 110, 'University Rating': 3, 'SOP': 3.5, 'LOR ': 2.5, 'CGPA': 8.67, 'Research': 1, 'Chance of Admit ': 0.8}\n",
      "{'_id': ObjectId('6390266e30d118c44fa351fa'), 'level_0': 4, 'index': 4, 'Serial No.': 5, 'GRE Score': 314, 'TOEFL Score': 103, 'University Rating': 2, 'SOP': 2.0, 'LOR ': 3.0, 'CGPA': 8.21, 'Research': 0, 'Chance of Admit ': 0.65}\n",
      "{'_id': ObjectId('6390266e30d118c44fa351fb'), 'level_0': 5, 'index': 5, 'Serial No.': 6, 'GRE Score': 330, 'TOEFL Score': 115, 'University Rating': 5, 'SOP': 4.5, 'LOR ': 3.0, 'CGPA': 9.34, 'Research': 1, 'Chance of Admit ': 0.9}\n",
      "{'_id': ObjectId('6390266e30d118c44fa351fc'), 'level_0': 6, 'index': 6, 'Serial No.': 7, 'GRE Score': 321, 'TOEFL Score': 109, 'University Rating': 3, 'SOP': 3.0, 'LOR ': 4.0, 'CGPA': 8.2, 'Research': 1, 'Chance of Admit ': 0.75}\n",
      "{'_id': ObjectId('6390266e30d118c44fa351fd'), 'level_0': 7, 'index': 7, 'Serial No.': 8, 'GRE Score': 308, 'TOEFL Score': 101, 'University Rating': 2, 'SOP': 3.0, 'LOR ': 4.0, 'CGPA': 7.9, 'Research': 0, 'Chance of Admit ': 0.68}\n",
      "{'_id': ObjectId('6390266e30d118c44fa351fe'), 'level_0': 8, 'index': 8, 'Serial No.': 9, 'GRE Score': 302, 'TOEFL Score': 102, 'University Rating': 1, 'SOP': 2.0, 'LOR ': 1.5, 'CGPA': 8.0, 'Research': 0, 'Chance of Admit ': 0.5}\n",
      "{'_id': ObjectId('6390266e30d118c44fa351ff'), 'level_0': 9, 'index': 9, 'Serial No.': 10, 'GRE Score': 323, 'TOEFL Score': 108, 'University Rating': 3, 'SOP': 3.5, 'LOR ': 3.0, 'CGPA': 8.6, 'Research': 0, 'Chance of Admit ': 0.45}\n"
     ]
    }
   ],
   "source": [
    "res = collection.find().limit(10)\n",
    "for val in res:\n",
    "    print(val)"
   ]
  },
  {
   "cell_type": "code",
   "execution_count": null,
   "metadata": {},
   "outputs": [],
   "source": []
  }
 ],
 "metadata": {
  "kernelspec": {
   "display_name": "Python 3.9.5 ('.venv': venv)",
   "language": "python",
   "name": "python3"
  },
  "language_info": {
   "codemirror_mode": {
    "name": "ipython",
    "version": 3
   },
   "file_extension": ".py",
   "mimetype": "text/x-python",
   "name": "python",
   "nbconvert_exporter": "python",
   "pygments_lexer": "ipython3",
   "version": "3.9.5"
  },
  "orig_nbformat": 4,
  "vscode": {
   "interpreter": {
    "hash": "0e69a19617f1297cb4cc3dac0d245eb48a010ac8c55b90cc60544c877fef1c16"
   }
  }
 },
 "nbformat": 4,
 "nbformat_minor": 2
}
