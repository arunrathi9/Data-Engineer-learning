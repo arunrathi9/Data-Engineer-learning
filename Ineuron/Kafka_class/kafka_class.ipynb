{
 "cells": [
  {
   "attachments": {},
   "cell_type": "markdown",
   "metadata": {},
   "source": [
    "# Spark Class lab"
   ]
  },
  {
   "attachments": {},
   "cell_type": "markdown",
   "metadata": {},
   "source": [
    "## Confluent Cloud Setup (https://confluent.cloud/environments)\n",
    "\n",
    "refer [image_begin](/Ineuron/Kafka_class/IMG_0637.HEIC)\n",
    "\n",
    "Then go to cluster. Open cluster. <br> Go to Topics and create a topic with default setting. It will be deleted after one week.\n",
    "<br>\n",
    "\n",
    "Step 2 - Go to API Keys. Create a key to use it for authorization. Select Global access for this project. <br>\n",
    "\n",
    "Step 3 - Open - Enable Stream Governance Essentials\n",
    "<br>\n",
    "Schema Registry and Stream Catalog API\n",
    "Endpoint - https://psrc-dz0xz.westus2.azure.confluent.cloud<br>\n",
    "create key to access the schema registry and download.\n",
    "\n",
    "Step 4 - Install packages mentioned below:\n",
    "1. Install Python3 version (Check for Windows, Linux and Mac)\n",
    "\n",
    "2. If not then install pip3 package explicitly\n",
    "\n",
    "3. pip3 install confluent_kafka\n",
    "4. pip3 install pandas\n",
    "5. pip3 install requests\n",
    "6. pip3 install jsonschema\n",
    "Note - During the execution of final code you might face error of \"No Module name jsonschema\"\n",
    "\n",
    "\n"
   ]
  },
  {
   "attachments": {},
   "cell_type": "markdown",
   "metadata": {},
   "source": [
    "[image_begin](/Ineuron/Kafka_class/IMG_0637.HEIC)"
   ]
  },
  {
   "cell_type": "markdown",
   "metadata": {},
   "source": []
  }
 ],
 "metadata": {
  "kernelspec": {
   "display_name": "Python 3",
   "language": "python",
   "name": "python3"
  },
  "language_info": {
   "codemirror_mode": {
    "name": "ipython",
    "version": 3
   },
   "file_extension": ".py",
   "mimetype": "text/x-python",
   "name": "python",
   "nbconvert_exporter": "python",
   "pygments_lexer": "ipython3",
   "version": "3.8.0 (v3.8.0:fa919fdf25, Oct 14 2019, 10:23:27) \n[Clang 6.0 (clang-600.0.57)]"
  },
  "orig_nbformat": 4,
  "vscode": {
   "interpreter": {
    "hash": "aee8b7b246df8f9039afb4144a1f6fd8d2ca17a180786b69acc140d282b71a49"
   }
  }
 },
 "nbformat": 4,
 "nbformat_minor": 2
}
